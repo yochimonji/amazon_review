{
 "cells": [
  {
   "cell_type": "code",
   "execution_count": 1,
   "metadata": {},
   "outputs": [],
   "source": [
    "import random\n",
    "\n",
    "import matplotlib.pyplot as plt\n",
    "import numpy as np\n",
    "import pandas as pd\n",
    "import torch\n",
    "from sklearn.decomposition import PCA\n",
    "from sklearn.metrics import confusion_matrix\n",
    "from torch import nn\n",
    "from torchtext.legacy import data\n",
    "from torchtext.vocab import Vectors\n",
    "from tqdm import tqdm\n",
    "\n",
    "from util import calc_accuracy, calc_f1, init_device, load_params\n",
    "from util.model import MyClassifier\n",
    "from util.nlp_preprocessing import dataframe2dataset, tokenizer_ja"
   ]
  },
  {
   "cell_type": "code",
   "execution_count": 2,
   "metadata": {},
   "outputs": [
    {
     "name": "stdout",
     "output_type": "stream",
     "text": [
      "Loading parameters...\n",
      " ja_train_path:\t /workspace/data/dataset_ja_train.json\n",
      " ja_dev_path:\t /workspace/data/dataset_ja_dev.json\n",
      " ja_test_path:\t /workspace/data/dataset_ja_test.json\n",
      " en_train_path:\t /workspace/data/dataset_en_train.json\n",
      " en_dev_path:\t /workspace/data/dataset_en_dev.json\n",
      " en_test_path:\t /workspace/data/dataset_en_test.json\n",
      " ja_vector_path:\t /workspace/amazon_review/weight/japanese_fasttext_vectors.vec\n",
      " is_developing:\t True\n",
      " source_category:\t home\n",
      " target_category:\t wireless\n",
      " target_ratio:\t 0.5\n",
      " lambda:\t 0.3\n",
      " use_pretrained_vector:\t False\n",
      " token_max_length:\t 256\n",
      " batch_size:\t 32\n",
      " emb_dim:\t 300\n",
      " class_num:\t 2\n",
      " criterion:\t CrossEntropyLoss\n",
      " lr:\t 1e-05\n",
      " optimizer:\t Adam\n",
      " epochs:\t 10\n"
     ]
    }
   ],
   "source": [
    "print(\"Loading parameters...\")\n",
    "params = load_params(\"/workspace/amazon_review/config/params_mmd.json\")\n",
    "\n",
    "params[\"target_ratio\"] = [0.01, 0.05, 0.1, 0.3, 0.5]"
   ]
  },
  {
   "cell_type": "code",
   "execution_count": 3,
   "metadata": {},
   "outputs": [
    {
     "name": "stdout",
     "output_type": "stream",
     "text": [
      "------------------------------\n",
      "target_ratio = 0.01\n",
      "------------------------------\n",
      "GPU available: cuda\n",
      "Source num: 18662, Target num: 186\n",
      "Building data iterator...\n"
     ]
    },
    {
     "name": "stderr",
     "output_type": "stream",
     "text": [
      "/opt/conda/lib/python3.7/site-packages/ipykernel_launcher.py:42: SettingWithCopyWarning: \n",
      "A value is trying to be set on a copy of a slice from a DataFrame.\n",
      "Try using .loc[row_indexer,col_indexer] = value instead\n",
      "\n",
      "See the caveats in the documentation: https://pandas.pydata.org/pandas-docs/stable/user_guide/indexing.html#returning-a-view-versus-a-copy\n",
      "/opt/conda/lib/python3.7/site-packages/ipykernel_launcher.py:43: SettingWithCopyWarning: \n",
      "A value is trying to be set on a copy of a slice from a DataFrame\n",
      "\n",
      "See the caveats in the documentation: https://pandas.pydata.org/pandas-docs/stable/user_guide/indexing.html#returning-a-view-versus-a-copy\n",
      "/opt/conda/lib/python3.7/site-packages/pandas/core/generic.py:8870: SettingWithCopyWarning: \n",
      "A value is trying to be set on a copy of a slice from a DataFrame\n",
      "\n",
      "See the caveats in the documentation: https://pandas.pydata.org/pandas-docs/stable/user_guide/indexing.html#returning-a-view-versus-a-copy\n",
      "  return self._update_inplace(result)\n",
      "  0%|          | 0/584 [00:00<?, ?it/s]"
     ]
    },
    {
     "name": "stdout",
     "output_type": "stream",
     "text": [
      "sourceで事前学習開始\n",
      "\n",
      "epoch 1 / 10\n"
     ]
    },
    {
     "name": "stderr",
     "output_type": "stream",
     "text": [
      "100%|██████████| 584/584 [00:18<00:00, 32.17it/s]\n",
      "  1%|          | 3/584 [00:00<00:20, 27.78it/s]"
     ]
    },
    {
     "name": "stdout",
     "output_type": "stream",
     "text": [
      "Train Source Loss: 0.677\n",
      "\n",
      "epoch 2 / 10\n"
     ]
    },
    {
     "name": "stderr",
     "output_type": "stream",
     "text": [
      "100%|██████████| 584/584 [00:17<00:00, 32.74it/s]\n",
      "  1%|          | 3/584 [00:00<00:21, 26.97it/s]"
     ]
    },
    {
     "name": "stdout",
     "output_type": "stream",
     "text": [
      "Train Source Loss: 0.574\n",
      "\n",
      "epoch 3 / 10\n"
     ]
    },
    {
     "name": "stderr",
     "output_type": "stream",
     "text": [
      "100%|██████████| 584/584 [00:17<00:00, 32.74it/s]\n",
      "  1%|          | 3/584 [00:00<00:21, 27.65it/s]"
     ]
    },
    {
     "name": "stdout",
     "output_type": "stream",
     "text": [
      "Train Source Loss: 0.481\n",
      "\n",
      "epoch 4 / 10\n"
     ]
    },
    {
     "name": "stderr",
     "output_type": "stream",
     "text": [
      "100%|██████████| 584/584 [00:17<00:00, 32.64it/s]\n",
      "  1%|          | 3/584 [00:00<00:21, 27.66it/s]"
     ]
    },
    {
     "name": "stdout",
     "output_type": "stream",
     "text": [
      "Train Source Loss: 0.394\n",
      "\n",
      "epoch 5 / 10\n"
     ]
    },
    {
     "name": "stderr",
     "output_type": "stream",
     "text": [
      "100%|██████████| 584/584 [00:17<00:00, 32.58it/s]\n",
      "  1%|          | 3/584 [00:00<00:22, 26.12it/s]"
     ]
    },
    {
     "name": "stdout",
     "output_type": "stream",
     "text": [
      "Train Source Loss: 0.321\n",
      "\n",
      "epoch 6 / 10\n"
     ]
    },
    {
     "name": "stderr",
     "output_type": "stream",
     "text": [
      "100%|██████████| 584/584 [00:17<00:00, 32.52it/s]\n",
      "  1%|          | 3/584 [00:00<00:21, 26.71it/s]"
     ]
    },
    {
     "name": "stdout",
     "output_type": "stream",
     "text": [
      "Train Source Loss: 0.268\n",
      "\n",
      "epoch 7 / 10\n"
     ]
    },
    {
     "name": "stderr",
     "output_type": "stream",
     "text": [
      "100%|██████████| 584/584 [00:18<00:00, 32.28it/s]\n",
      "  1%|          | 3/584 [00:00<00:21, 27.22it/s]"
     ]
    },
    {
     "name": "stdout",
     "output_type": "stream",
     "text": [
      "Train Source Loss: 0.235\n",
      "\n",
      "epoch 8 / 10\n"
     ]
    },
    {
     "name": "stderr",
     "output_type": "stream",
     "text": [
      "100%|██████████| 584/584 [00:17<00:00, 32.70it/s]\n",
      "  1%|          | 3/584 [00:00<00:20, 27.77it/s]"
     ]
    },
    {
     "name": "stdout",
     "output_type": "stream",
     "text": [
      "Train Source Loss: 0.201\n",
      "\n",
      "epoch 9 / 10\n"
     ]
    },
    {
     "name": "stderr",
     "output_type": "stream",
     "text": [
      "100%|██████████| 584/584 [00:17<00:00, 32.74it/s]\n",
      "  1%|          | 3/584 [00:00<00:21, 27.53it/s]"
     ]
    },
    {
     "name": "stdout",
     "output_type": "stream",
     "text": [
      "Train Source Loss: 0.186\n",
      "\n",
      "epoch 10 / 10\n"
     ]
    },
    {
     "name": "stderr",
     "output_type": "stream",
     "text": [
      "100%|██████████| 584/584 [00:17<00:00, 32.59it/s]\n",
      "100%|██████████| 6/6 [00:00<00:00, 31.03it/s]\n",
      "  0%|          | 0/6 [00:00<?, ?it/s]"
     ]
    },
    {
     "name": "stdout",
     "output_type": "stream",
     "text": [
      "Train Source Loss: 0.169\n",
      "\n",
      "targetでFineTuning開始\n",
      "epoch 1 / 10\n",
      "Train Target Loss: 0.877\n",
      "epoch 2 / 10\n"
     ]
    },
    {
     "name": "stderr",
     "output_type": "stream",
     "text": [
      "100%|██████████| 6/6 [00:00<00:00, 30.47it/s]\n",
      "100%|██████████| 6/6 [00:00<00:00, 31.25it/s]\n",
      "  0%|          | 0/6 [00:00<?, ?it/s]"
     ]
    },
    {
     "name": "stdout",
     "output_type": "stream",
     "text": [
      "Train Target Loss: 0.492\n",
      "epoch 3 / 10\n",
      "Train Target Loss: 0.257\n",
      "epoch 4 / 10\n"
     ]
    },
    {
     "name": "stderr",
     "output_type": "stream",
     "text": [
      "100%|██████████| 6/6 [00:00<00:00, 32.06it/s]\n",
      "100%|██████████| 6/6 [00:00<00:00, 32.07it/s]\n",
      "  0%|          | 0/6 [00:00<?, ?it/s]"
     ]
    },
    {
     "name": "stdout",
     "output_type": "stream",
     "text": [
      "Train Target Loss: 0.197\n",
      "epoch 5 / 10\n",
      "Train Target Loss: 0.136\n",
      "epoch 6 / 10\n"
     ]
    },
    {
     "name": "stderr",
     "output_type": "stream",
     "text": [
      "100%|██████████| 6/6 [00:00<00:00, 32.40it/s]\n",
      "100%|██████████| 6/6 [00:00<00:00, 32.16it/s]\n",
      "  0%|          | 0/6 [00:00<?, ?it/s]"
     ]
    },
    {
     "name": "stdout",
     "output_type": "stream",
     "text": [
      "Train Target Loss: 0.118\n",
      "epoch 7 / 10\n",
      "Train Target Loss: 0.084\n",
      "epoch 8 / 10\n"
     ]
    },
    {
     "name": "stderr",
     "output_type": "stream",
     "text": [
      "100%|██████████| 6/6 [00:00<00:00, 32.56it/s]\n",
      "100%|██████████| 6/6 [00:00<00:00, 32.50it/s]\n",
      "  0%|          | 0/6 [00:00<?, ?it/s]"
     ]
    },
    {
     "name": "stdout",
     "output_type": "stream",
     "text": [
      "Train Target Loss: 0.078\n",
      "epoch 9 / 10\n",
      "Train Target Loss: 0.068\n",
      "epoch 10 / 10\n"
     ]
    },
    {
     "name": "stderr",
     "output_type": "stream",
     "text": [
      "100%|██████████| 6/6 [00:00<00:00, 32.45it/s]\n"
     ]
    },
    {
     "name": "stdout",
     "output_type": "stream",
     "text": [
      "Train Target Loss: 0.074\n",
      "\n",
      "Test Target Accuracy: 65.82\n",
      "Test Target F1 Score: 39.69\n",
      "------------------------------\n",
      "target_ratio = 0.05\n",
      "------------------------------\n",
      "GPU available: cuda\n",
      "Source num: 18662, Target num: 933\n",
      "Building data iterator...\n"
     ]
    },
    {
     "name": "stderr",
     "output_type": "stream",
     "text": [
      "/opt/conda/lib/python3.7/site-packages/ipykernel_launcher.py:42: SettingWithCopyWarning: \n",
      "A value is trying to be set on a copy of a slice from a DataFrame.\n",
      "Try using .loc[row_indexer,col_indexer] = value instead\n",
      "\n",
      "See the caveats in the documentation: https://pandas.pydata.org/pandas-docs/stable/user_guide/indexing.html#returning-a-view-versus-a-copy\n",
      "/opt/conda/lib/python3.7/site-packages/ipykernel_launcher.py:43: SettingWithCopyWarning: \n",
      "A value is trying to be set on a copy of a slice from a DataFrame\n",
      "\n",
      "See the caveats in the documentation: https://pandas.pydata.org/pandas-docs/stable/user_guide/indexing.html#returning-a-view-versus-a-copy\n",
      "/opt/conda/lib/python3.7/site-packages/pandas/core/generic.py:8870: SettingWithCopyWarning: \n",
      "A value is trying to be set on a copy of a slice from a DataFrame\n",
      "\n",
      "See the caveats in the documentation: https://pandas.pydata.org/pandas-docs/stable/user_guide/indexing.html#returning-a-view-versus-a-copy\n",
      "  return self._update_inplace(result)\n",
      "  1%|          | 3/584 [00:00<00:20, 27.84it/s]"
     ]
    },
    {
     "name": "stdout",
     "output_type": "stream",
     "text": [
      "sourceで事前学習開始\n",
      "\n",
      "epoch 1 / 10\n"
     ]
    },
    {
     "name": "stderr",
     "output_type": "stream",
     "text": [
      "100%|██████████| 584/584 [00:18<00:00, 32.41it/s]\n",
      "  1%|          | 3/584 [00:00<00:21, 27.10it/s]"
     ]
    },
    {
     "name": "stdout",
     "output_type": "stream",
     "text": [
      "Train Source Loss: 0.670\n",
      "\n",
      "epoch 2 / 10\n"
     ]
    },
    {
     "name": "stderr",
     "output_type": "stream",
     "text": [
      "100%|██████████| 584/584 [00:17<00:00, 32.45it/s]\n",
      "  1%|          | 3/584 [00:00<00:21, 27.01it/s]"
     ]
    },
    {
     "name": "stdout",
     "output_type": "stream",
     "text": [
      "Train Source Loss: 0.573\n",
      "\n",
      "epoch 3 / 10\n"
     ]
    },
    {
     "name": "stderr",
     "output_type": "stream",
     "text": [
      "100%|██████████| 584/584 [00:17<00:00, 32.45it/s]\n",
      "  1%|          | 3/584 [00:00<00:21, 27.56it/s]"
     ]
    },
    {
     "name": "stdout",
     "output_type": "stream",
     "text": [
      "Train Source Loss: 0.485\n",
      "\n",
      "epoch 4 / 10\n"
     ]
    },
    {
     "name": "stderr",
     "output_type": "stream",
     "text": [
      "100%|██████████| 584/584 [00:18<00:00, 32.38it/s]\n",
      "  1%|          | 3/584 [00:00<00:20, 27.70it/s]"
     ]
    },
    {
     "name": "stdout",
     "output_type": "stream",
     "text": [
      "Train Source Loss: 0.405\n",
      "\n",
      "epoch 5 / 10\n"
     ]
    },
    {
     "name": "stderr",
     "output_type": "stream",
     "text": [
      "100%|██████████| 584/584 [00:17<00:00, 32.59it/s]\n",
      "  1%|          | 3/584 [00:00<00:22, 25.32it/s]"
     ]
    },
    {
     "name": "stdout",
     "output_type": "stream",
     "text": [
      "Train Source Loss: 0.332\n",
      "\n",
      "epoch 6 / 10\n"
     ]
    },
    {
     "name": "stderr",
     "output_type": "stream",
     "text": [
      "100%|██████████| 584/584 [00:17<00:00, 32.47it/s]\n",
      "  1%|          | 3/584 [00:00<00:21, 26.76it/s]"
     ]
    },
    {
     "name": "stdout",
     "output_type": "stream",
     "text": [
      "Train Source Loss: 0.274\n",
      "\n",
      "epoch 7 / 10\n"
     ]
    },
    {
     "name": "stderr",
     "output_type": "stream",
     "text": [
      "100%|██████████| 584/584 [00:17<00:00, 32.52it/s]\n",
      "  1%|          | 3/584 [00:00<00:21, 27.39it/s]"
     ]
    },
    {
     "name": "stdout",
     "output_type": "stream",
     "text": [
      "Train Source Loss: 0.241\n",
      "\n",
      "epoch 8 / 10\n"
     ]
    },
    {
     "name": "stderr",
     "output_type": "stream",
     "text": [
      "100%|██████████| 584/584 [00:18<00:00, 32.03it/s]\n",
      "  1%|          | 3/584 [00:00<00:22, 25.56it/s]"
     ]
    },
    {
     "name": "stdout",
     "output_type": "stream",
     "text": [
      "Train Source Loss: 0.207\n",
      "\n",
      "epoch 9 / 10\n"
     ]
    },
    {
     "name": "stderr",
     "output_type": "stream",
     "text": [
      "100%|██████████| 584/584 [00:18<00:00, 32.19it/s]\n",
      "  1%|          | 3/584 [00:00<00:21, 27.21it/s]"
     ]
    },
    {
     "name": "stdout",
     "output_type": "stream",
     "text": [
      "Train Source Loss: 0.186\n",
      "\n",
      "epoch 10 / 10\n"
     ]
    },
    {
     "name": "stderr",
     "output_type": "stream",
     "text": [
      "100%|██████████| 584/584 [00:18<00:00, 32.16it/s]\n",
      " 13%|█▎        | 4/30 [00:00<00:00, 32.37it/s]"
     ]
    },
    {
     "name": "stdout",
     "output_type": "stream",
     "text": [
      "Train Source Loss: 0.171\n",
      "\n",
      "targetでFineTuning開始\n",
      "epoch 1 / 10\n"
     ]
    },
    {
     "name": "stderr",
     "output_type": "stream",
     "text": [
      "100%|██████████| 30/30 [00:00<00:00, 31.29it/s]\n",
      " 13%|█▎        | 4/30 [00:00<00:00, 32.04it/s]"
     ]
    },
    {
     "name": "stdout",
     "output_type": "stream",
     "text": [
      "Train Target Loss: 0.762\n",
      "epoch 2 / 10\n"
     ]
    },
    {
     "name": "stderr",
     "output_type": "stream",
     "text": [
      "100%|██████████| 30/30 [00:00<00:00, 31.86it/s]\n",
      " 13%|█▎        | 4/30 [00:00<00:00, 31.92it/s]"
     ]
    },
    {
     "name": "stdout",
     "output_type": "stream",
     "text": [
      "Train Target Loss: 0.393\n",
      "epoch 3 / 10\n"
     ]
    },
    {
     "name": "stderr",
     "output_type": "stream",
     "text": [
      "100%|██████████| 30/30 [00:00<00:00, 31.71it/s]\n",
      " 10%|█         | 3/30 [00:00<00:00, 29.48it/s]"
     ]
    },
    {
     "name": "stdout",
     "output_type": "stream",
     "text": [
      "Train Target Loss: 0.258\n",
      "epoch 4 / 10\n"
     ]
    },
    {
     "name": "stderr",
     "output_type": "stream",
     "text": [
      "100%|██████████| 30/30 [00:00<00:00, 31.44it/s]\n",
      " 13%|█▎        | 4/30 [00:00<00:00, 30.87it/s]"
     ]
    },
    {
     "name": "stdout",
     "output_type": "stream",
     "text": [
      "Train Target Loss: 0.193\n",
      "epoch 5 / 10\n"
     ]
    },
    {
     "name": "stderr",
     "output_type": "stream",
     "text": [
      "100%|██████████| 30/30 [00:00<00:00, 31.27it/s]\n",
      " 13%|█▎        | 4/30 [00:00<00:00, 31.39it/s]"
     ]
    },
    {
     "name": "stdout",
     "output_type": "stream",
     "text": [
      "Train Target Loss: 0.148\n",
      "epoch 6 / 10\n"
     ]
    },
    {
     "name": "stderr",
     "output_type": "stream",
     "text": [
      "100%|██████████| 30/30 [00:00<00:00, 31.21it/s]\n",
      " 10%|█         | 3/30 [00:00<00:00, 29.74it/s]"
     ]
    },
    {
     "name": "stdout",
     "output_type": "stream",
     "text": [
      "Train Target Loss: 0.128\n",
      "epoch 7 / 10\n"
     ]
    },
    {
     "name": "stderr",
     "output_type": "stream",
     "text": [
      "100%|██████████| 30/30 [00:00<00:00, 31.09it/s]\n",
      " 13%|█▎        | 4/30 [00:00<00:00, 31.77it/s]"
     ]
    },
    {
     "name": "stdout",
     "output_type": "stream",
     "text": [
      "Train Target Loss: 0.095\n",
      "epoch 8 / 10\n"
     ]
    },
    {
     "name": "stderr",
     "output_type": "stream",
     "text": [
      "100%|██████████| 30/30 [00:00<00:00, 31.19it/s]\n",
      " 10%|█         | 3/30 [00:00<00:00, 29.78it/s]"
     ]
    },
    {
     "name": "stdout",
     "output_type": "stream",
     "text": [
      "Train Target Loss: 0.081\n",
      "epoch 9 / 10\n"
     ]
    },
    {
     "name": "stderr",
     "output_type": "stream",
     "text": [
      "100%|██████████| 30/30 [00:00<00:00, 30.94it/s]\n",
      " 13%|█▎        | 4/30 [00:00<00:00, 31.77it/s]"
     ]
    },
    {
     "name": "stdout",
     "output_type": "stream",
     "text": [
      "Train Target Loss: 0.063\n",
      "epoch 10 / 10\n"
     ]
    },
    {
     "name": "stderr",
     "output_type": "stream",
     "text": [
      "100%|██████████| 30/30 [00:00<00:00, 31.54it/s]\n"
     ]
    },
    {
     "name": "stdout",
     "output_type": "stream",
     "text": [
      "Train Target Loss: 0.106\n",
      "\n",
      "Test Target Accuracy: 57.71\n",
      "Test Target F1 Score: 35.89\n",
      "------------------------------\n",
      "target_ratio = 0.1\n",
      "------------------------------\n",
      "GPU available: cuda\n",
      "Source num: 18662, Target num: 1866\n",
      "Building data iterator...\n"
     ]
    },
    {
     "name": "stderr",
     "output_type": "stream",
     "text": [
      "/opt/conda/lib/python3.7/site-packages/ipykernel_launcher.py:42: SettingWithCopyWarning: \n",
      "A value is trying to be set on a copy of a slice from a DataFrame.\n",
      "Try using .loc[row_indexer,col_indexer] = value instead\n",
      "\n",
      "See the caveats in the documentation: https://pandas.pydata.org/pandas-docs/stable/user_guide/indexing.html#returning-a-view-versus-a-copy\n",
      "/opt/conda/lib/python3.7/site-packages/ipykernel_launcher.py:43: SettingWithCopyWarning: \n",
      "A value is trying to be set on a copy of a slice from a DataFrame\n",
      "\n",
      "See the caveats in the documentation: https://pandas.pydata.org/pandas-docs/stable/user_guide/indexing.html#returning-a-view-versus-a-copy\n",
      "/opt/conda/lib/python3.7/site-packages/pandas/core/generic.py:8870: SettingWithCopyWarning: \n",
      "A value is trying to be set on a copy of a slice from a DataFrame\n",
      "\n",
      "See the caveats in the documentation: https://pandas.pydata.org/pandas-docs/stable/user_guide/indexing.html#returning-a-view-versus-a-copy\n",
      "  return self._update_inplace(result)\n",
      "  1%|          | 3/584 [00:00<00:22, 25.54it/s]"
     ]
    },
    {
     "name": "stdout",
     "output_type": "stream",
     "text": [
      "sourceで事前学習開始\n",
      "\n",
      "epoch 1 / 10\n"
     ]
    },
    {
     "name": "stderr",
     "output_type": "stream",
     "text": [
      "100%|██████████| 584/584 [00:18<00:00, 32.06it/s]\n",
      "  1%|          | 3/584 [00:00<00:21, 27.50it/s]"
     ]
    },
    {
     "name": "stdout",
     "output_type": "stream",
     "text": [
      "Train Source Loss: 0.675\n",
      "\n",
      "epoch 2 / 10\n"
     ]
    },
    {
     "name": "stderr",
     "output_type": "stream",
     "text": [
      "100%|██████████| 584/584 [00:18<00:00, 31.72it/s]\n",
      "  1%|          | 3/584 [00:00<00:22, 26.16it/s]"
     ]
    },
    {
     "name": "stdout",
     "output_type": "stream",
     "text": [
      "Train Source Loss: 0.575\n",
      "\n",
      "epoch 3 / 10\n"
     ]
    },
    {
     "name": "stderr",
     "output_type": "stream",
     "text": [
      "100%|██████████| 584/584 [00:18<00:00, 32.22it/s]\n",
      "  1%|          | 3/584 [00:00<00:21, 27.20it/s]"
     ]
    },
    {
     "name": "stdout",
     "output_type": "stream",
     "text": [
      "Train Source Loss: 0.482\n",
      "\n",
      "epoch 4 / 10\n"
     ]
    },
    {
     "name": "stderr",
     "output_type": "stream",
     "text": [
      "100%|██████████| 584/584 [00:18<00:00, 31.93it/s]\n",
      "  1%|          | 3/584 [00:00<00:21, 26.87it/s]"
     ]
    },
    {
     "name": "stdout",
     "output_type": "stream",
     "text": [
      "Train Source Loss: 0.396\n",
      "\n",
      "epoch 5 / 10\n"
     ]
    },
    {
     "name": "stderr",
     "output_type": "stream",
     "text": [
      "100%|██████████| 584/584 [00:18<00:00, 32.09it/s]\n",
      "  1%|          | 3/584 [00:00<00:21, 27.24it/s]"
     ]
    },
    {
     "name": "stdout",
     "output_type": "stream",
     "text": [
      "Train Source Loss: 0.320\n",
      "\n",
      "epoch 6 / 10\n"
     ]
    },
    {
     "name": "stderr",
     "output_type": "stream",
     "text": [
      "100%|██████████| 584/584 [00:18<00:00, 32.27it/s]\n",
      "  1%|          | 3/584 [00:00<00:22, 25.95it/s]"
     ]
    },
    {
     "name": "stdout",
     "output_type": "stream",
     "text": [
      "Train Source Loss: 0.265\n",
      "\n",
      "epoch 7 / 10\n"
     ]
    },
    {
     "name": "stderr",
     "output_type": "stream",
     "text": [
      "100%|██████████| 584/584 [00:18<00:00, 31.96it/s]\n",
      "  1%|          | 3/584 [00:00<00:21, 27.09it/s]"
     ]
    },
    {
     "name": "stdout",
     "output_type": "stream",
     "text": [
      "Train Source Loss: 0.227\n",
      "\n",
      "epoch 8 / 10\n"
     ]
    },
    {
     "name": "stderr",
     "output_type": "stream",
     "text": [
      "100%|██████████| 584/584 [00:18<00:00, 31.84it/s]\n",
      "  1%|          | 3/584 [00:00<00:21, 27.40it/s]"
     ]
    },
    {
     "name": "stdout",
     "output_type": "stream",
     "text": [
      "Train Source Loss: 0.195\n",
      "\n",
      "epoch 9 / 10\n"
     ]
    },
    {
     "name": "stderr",
     "output_type": "stream",
     "text": [
      "100%|██████████| 584/584 [00:18<00:00, 31.81it/s]\n",
      "  1%|          | 3/584 [00:00<00:22, 25.51it/s]"
     ]
    },
    {
     "name": "stdout",
     "output_type": "stream",
     "text": [
      "Train Source Loss: 0.180\n",
      "\n",
      "epoch 10 / 10\n"
     ]
    },
    {
     "name": "stderr",
     "output_type": "stream",
     "text": [
      "100%|██████████| 584/584 [00:18<00:00, 31.96it/s]\n",
      "  5%|▌         | 3/59 [00:00<00:01, 29.51it/s]"
     ]
    },
    {
     "name": "stdout",
     "output_type": "stream",
     "text": [
      "Train Source Loss: 0.160\n",
      "\n",
      "targetでFineTuning開始\n",
      "epoch 1 / 10\n"
     ]
    },
    {
     "name": "stderr",
     "output_type": "stream",
     "text": [
      "100%|██████████| 59/59 [00:01<00:00, 32.02it/s]\n",
      "  7%|▋         | 4/59 [00:00<00:01, 31.62it/s]"
     ]
    },
    {
     "name": "stdout",
     "output_type": "stream",
     "text": [
      "Train Target Loss: 0.694\n",
      "epoch 2 / 10\n"
     ]
    },
    {
     "name": "stderr",
     "output_type": "stream",
     "text": [
      "100%|██████████| 59/59 [00:01<00:00, 32.02it/s]\n",
      "  7%|▋         | 4/59 [00:00<00:01, 31.93it/s]"
     ]
    },
    {
     "name": "stdout",
     "output_type": "stream",
     "text": [
      "Train Target Loss: 0.424\n",
      "epoch 3 / 10\n"
     ]
    },
    {
     "name": "stderr",
     "output_type": "stream",
     "text": [
      "100%|██████████| 59/59 [00:01<00:00, 32.19it/s]\n",
      "  5%|▌         | 3/59 [00:00<00:01, 29.90it/s]"
     ]
    },
    {
     "name": "stdout",
     "output_type": "stream",
     "text": [
      "Train Target Loss: 0.293\n",
      "epoch 4 / 10\n"
     ]
    },
    {
     "name": "stderr",
     "output_type": "stream",
     "text": [
      "100%|██████████| 59/59 [00:01<00:00, 32.01it/s]\n",
      "  7%|▋         | 4/59 [00:00<00:01, 32.44it/s]"
     ]
    },
    {
     "name": "stdout",
     "output_type": "stream",
     "text": [
      "Train Target Loss: 0.187\n",
      "epoch 5 / 10\n"
     ]
    },
    {
     "name": "stderr",
     "output_type": "stream",
     "text": [
      "100%|██████████| 59/59 [00:01<00:00, 31.87it/s]\n",
      "  7%|▋         | 4/59 [00:00<00:01, 31.64it/s]"
     ]
    },
    {
     "name": "stdout",
     "output_type": "stream",
     "text": [
      "Train Target Loss: 0.152\n",
      "epoch 6 / 10\n"
     ]
    },
    {
     "name": "stderr",
     "output_type": "stream",
     "text": [
      "100%|██████████| 59/59 [00:01<00:00, 32.16it/s]\n",
      "  7%|▋         | 4/59 [00:00<00:01, 30.81it/s]"
     ]
    },
    {
     "name": "stdout",
     "output_type": "stream",
     "text": [
      "Train Target Loss: 0.116\n",
      "epoch 7 / 10\n"
     ]
    },
    {
     "name": "stderr",
     "output_type": "stream",
     "text": [
      "100%|██████████| 59/59 [00:01<00:00, 32.12it/s]\n",
      "  7%|▋         | 4/59 [00:00<00:01, 31.19it/s]"
     ]
    },
    {
     "name": "stdout",
     "output_type": "stream",
     "text": [
      "Train Target Loss: 0.079\n",
      "epoch 8 / 10\n"
     ]
    },
    {
     "name": "stderr",
     "output_type": "stream",
     "text": [
      "100%|██████████| 59/59 [00:01<00:00, 32.01it/s]\n",
      "  7%|▋         | 4/59 [00:00<00:01, 31.68it/s]"
     ]
    },
    {
     "name": "stdout",
     "output_type": "stream",
     "text": [
      "Train Target Loss: 0.070\n",
      "epoch 9 / 10\n"
     ]
    },
    {
     "name": "stderr",
     "output_type": "stream",
     "text": [
      "100%|██████████| 59/59 [00:01<00:00, 30.86it/s]\n",
      "  7%|▋         | 4/59 [00:00<00:01, 30.92it/s]"
     ]
    },
    {
     "name": "stdout",
     "output_type": "stream",
     "text": [
      "Train Target Loss: 0.051\n",
      "epoch 10 / 10\n"
     ]
    },
    {
     "name": "stderr",
     "output_type": "stream",
     "text": [
      "100%|██████████| 59/59 [00:01<00:00, 30.51it/s]\n"
     ]
    },
    {
     "name": "stdout",
     "output_type": "stream",
     "text": [
      "Train Target Loss: 0.051\n",
      "\n",
      "Test Target Accuracy: 59.38\n",
      "Test Target F1 Score: 40.49\n",
      "------------------------------\n",
      "target_ratio = 0.3\n",
      "------------------------------\n",
      "GPU available: cuda\n",
      "Source num: 18662, Target num: 5598\n",
      "Building data iterator...\n"
     ]
    },
    {
     "name": "stderr",
     "output_type": "stream",
     "text": [
      "/opt/conda/lib/python3.7/site-packages/ipykernel_launcher.py:42: SettingWithCopyWarning: \n",
      "A value is trying to be set on a copy of a slice from a DataFrame.\n",
      "Try using .loc[row_indexer,col_indexer] = value instead\n",
      "\n",
      "See the caveats in the documentation: https://pandas.pydata.org/pandas-docs/stable/user_guide/indexing.html#returning-a-view-versus-a-copy\n",
      "/opt/conda/lib/python3.7/site-packages/ipykernel_launcher.py:43: SettingWithCopyWarning: \n",
      "A value is trying to be set on a copy of a slice from a DataFrame\n",
      "\n",
      "See the caveats in the documentation: https://pandas.pydata.org/pandas-docs/stable/user_guide/indexing.html#returning-a-view-versus-a-copy\n",
      "/opt/conda/lib/python3.7/site-packages/pandas/core/generic.py:8870: SettingWithCopyWarning: \n",
      "A value is trying to be set on a copy of a slice from a DataFrame\n",
      "\n",
      "See the caveats in the documentation: https://pandas.pydata.org/pandas-docs/stable/user_guide/indexing.html#returning-a-view-versus-a-copy\n",
      "  return self._update_inplace(result)\n",
      "  1%|          | 3/584 [00:00<00:23, 24.82it/s]"
     ]
    },
    {
     "name": "stdout",
     "output_type": "stream",
     "text": [
      "sourceで事前学習開始\n",
      "\n",
      "epoch 1 / 10\n"
     ]
    },
    {
     "name": "stderr",
     "output_type": "stream",
     "text": [
      "100%|██████████| 584/584 [00:18<00:00, 31.14it/s]\n",
      "  1%|          | 3/584 [00:00<00:23, 25.03it/s]"
     ]
    },
    {
     "name": "stdout",
     "output_type": "stream",
     "text": [
      "Train Source Loss: 0.673\n",
      "\n",
      "epoch 2 / 10\n"
     ]
    },
    {
     "name": "stderr",
     "output_type": "stream",
     "text": [
      "100%|██████████| 584/584 [00:18<00:00, 30.97it/s]\n",
      "  1%|          | 3/584 [00:00<00:22, 26.36it/s]"
     ]
    },
    {
     "name": "stdout",
     "output_type": "stream",
     "text": [
      "Train Source Loss: 0.581\n",
      "\n",
      "epoch 3 / 10\n"
     ]
    },
    {
     "name": "stderr",
     "output_type": "stream",
     "text": [
      "100%|██████████| 584/584 [00:18<00:00, 31.05it/s]\n",
      "  1%|          | 3/584 [00:00<00:22, 26.12it/s]"
     ]
    },
    {
     "name": "stdout",
     "output_type": "stream",
     "text": [
      "Train Source Loss: 0.491\n",
      "\n",
      "epoch 4 / 10\n"
     ]
    },
    {
     "name": "stderr",
     "output_type": "stream",
     "text": [
      "100%|██████████| 584/584 [00:18<00:00, 30.99it/s]\n",
      "  1%|          | 3/584 [00:00<00:22, 26.29it/s]"
     ]
    },
    {
     "name": "stdout",
     "output_type": "stream",
     "text": [
      "Train Source Loss: 0.408\n",
      "\n",
      "epoch 5 / 10\n"
     ]
    },
    {
     "name": "stderr",
     "output_type": "stream",
     "text": [
      "100%|██████████| 584/584 [00:18<00:00, 31.05it/s]\n",
      "  1%|          | 3/584 [00:00<00:23, 25.25it/s]"
     ]
    },
    {
     "name": "stdout",
     "output_type": "stream",
     "text": [
      "Train Source Loss: 0.334\n",
      "\n",
      "epoch 6 / 10\n"
     ]
    },
    {
     "name": "stderr",
     "output_type": "stream",
     "text": [
      "100%|██████████| 584/584 [00:18<00:00, 30.88it/s]\n",
      "  1%|          | 3/584 [00:00<00:24, 24.11it/s]"
     ]
    },
    {
     "name": "stdout",
     "output_type": "stream",
     "text": [
      "Train Source Loss: 0.279\n",
      "\n",
      "epoch 7 / 10\n"
     ]
    },
    {
     "name": "stderr",
     "output_type": "stream",
     "text": [
      "100%|██████████| 584/584 [00:19<00:00, 30.73it/s]\n",
      "  1%|          | 3/584 [00:00<00:23, 24.64it/s]"
     ]
    },
    {
     "name": "stdout",
     "output_type": "stream",
     "text": [
      "Train Source Loss: 0.241\n",
      "\n",
      "epoch 8 / 10\n"
     ]
    },
    {
     "name": "stderr",
     "output_type": "stream",
     "text": [
      "100%|██████████| 584/584 [00:19<00:00, 30.45it/s]\n",
      "  1%|          | 3/584 [00:00<00:23, 24.48it/s]"
     ]
    },
    {
     "name": "stdout",
     "output_type": "stream",
     "text": [
      "Train Source Loss: 0.210\n",
      "\n",
      "epoch 9 / 10\n"
     ]
    },
    {
     "name": "stderr",
     "output_type": "stream",
     "text": [
      "100%|██████████| 584/584 [00:19<00:00, 30.74it/s]\n",
      "  1%|          | 3/584 [00:00<00:22, 26.20it/s]"
     ]
    },
    {
     "name": "stdout",
     "output_type": "stream",
     "text": [
      "Train Source Loss: 0.190\n",
      "\n",
      "epoch 10 / 10\n"
     ]
    },
    {
     "name": "stderr",
     "output_type": "stream",
     "text": [
      "100%|██████████| 584/584 [00:19<00:00, 30.67it/s]\n",
      "  2%|▏         | 3/175 [00:00<00:06, 28.26it/s]"
     ]
    },
    {
     "name": "stdout",
     "output_type": "stream",
     "text": [
      "Train Source Loss: 0.171\n",
      "\n",
      "targetでFineTuning開始\n",
      "epoch 1 / 10\n"
     ]
    },
    {
     "name": "stderr",
     "output_type": "stream",
     "text": [
      "100%|██████████| 175/175 [00:05<00:00, 30.77it/s]\n",
      "  2%|▏         | 3/175 [00:00<00:06, 27.56it/s]"
     ]
    },
    {
     "name": "stdout",
     "output_type": "stream",
     "text": [
      "Train Target Loss: 0.649\n",
      "epoch 2 / 10\n"
     ]
    },
    {
     "name": "stderr",
     "output_type": "stream",
     "text": [
      "100%|██████████| 175/175 [00:05<00:00, 30.08it/s]\n",
      "  2%|▏         | 3/175 [00:00<00:05, 29.64it/s]"
     ]
    },
    {
     "name": "stdout",
     "output_type": "stream",
     "text": [
      "Train Target Loss: 0.488\n",
      "epoch 3 / 10\n"
     ]
    },
    {
     "name": "stderr",
     "output_type": "stream",
     "text": [
      "100%|██████████| 175/175 [00:05<00:00, 30.47it/s]\n",
      "  2%|▏         | 3/175 [00:00<00:06, 27.53it/s]"
     ]
    },
    {
     "name": "stdout",
     "output_type": "stream",
     "text": [
      "Train Target Loss: 0.368\n",
      "epoch 4 / 10\n"
     ]
    },
    {
     "name": "stderr",
     "output_type": "stream",
     "text": [
      "100%|██████████| 175/175 [00:05<00:00, 31.26it/s]\n",
      "  2%|▏         | 3/175 [00:00<00:06, 28.39it/s]"
     ]
    },
    {
     "name": "stdout",
     "output_type": "stream",
     "text": [
      "Train Target Loss: 0.276\n",
      "epoch 5 / 10\n"
     ]
    },
    {
     "name": "stderr",
     "output_type": "stream",
     "text": [
      "100%|██████████| 175/175 [00:05<00:00, 30.57it/s]\n",
      "  2%|▏         | 3/175 [00:00<00:05, 29.33it/s]"
     ]
    },
    {
     "name": "stdout",
     "output_type": "stream",
     "text": [
      "Train Target Loss: 0.202\n",
      "epoch 6 / 10\n"
     ]
    },
    {
     "name": "stderr",
     "output_type": "stream",
     "text": [
      "100%|██████████| 175/175 [00:05<00:00, 31.07it/s]\n",
      "  2%|▏         | 3/175 [00:00<00:06, 27.30it/s]"
     ]
    },
    {
     "name": "stdout",
     "output_type": "stream",
     "text": [
      "Train Target Loss: 0.163\n",
      "epoch 7 / 10\n"
     ]
    },
    {
     "name": "stderr",
     "output_type": "stream",
     "text": [
      "100%|██████████| 175/175 [00:05<00:00, 30.47it/s]\n",
      "  2%|▏         | 3/175 [00:00<00:06, 27.58it/s]"
     ]
    },
    {
     "name": "stdout",
     "output_type": "stream",
     "text": [
      "Train Target Loss: 0.133\n",
      "epoch 8 / 10\n"
     ]
    },
    {
     "name": "stderr",
     "output_type": "stream",
     "text": [
      "100%|██████████| 175/175 [00:05<00:00, 31.08it/s]\n",
      "  2%|▏         | 3/175 [00:00<00:06, 27.77it/s]"
     ]
    },
    {
     "name": "stdout",
     "output_type": "stream",
     "text": [
      "Train Target Loss: 0.108\n",
      "epoch 9 / 10\n"
     ]
    },
    {
     "name": "stderr",
     "output_type": "stream",
     "text": [
      "100%|██████████| 175/175 [00:05<00:00, 30.53it/s]\n",
      "  2%|▏         | 3/175 [00:00<00:05, 28.77it/s]"
     ]
    },
    {
     "name": "stdout",
     "output_type": "stream",
     "text": [
      "Train Target Loss: 0.094\n",
      "epoch 10 / 10\n"
     ]
    },
    {
     "name": "stderr",
     "output_type": "stream",
     "text": [
      "100%|██████████| 175/175 [00:05<00:00, 30.67it/s]\n"
     ]
    },
    {
     "name": "stdout",
     "output_type": "stream",
     "text": [
      "Train Target Loss: 0.089\n",
      "\n",
      "Test Target Accuracy: 68.42\n",
      "Test Target F1 Score: 47.00\n",
      "------------------------------\n",
      "target_ratio = 0.5\n",
      "------------------------------\n",
      "GPU available: cuda\n",
      "Source num: 18662, Target num: 9331\n",
      "Building data iterator...\n"
     ]
    },
    {
     "name": "stderr",
     "output_type": "stream",
     "text": [
      "/opt/conda/lib/python3.7/site-packages/ipykernel_launcher.py:42: SettingWithCopyWarning: \n",
      "A value is trying to be set on a copy of a slice from a DataFrame.\n",
      "Try using .loc[row_indexer,col_indexer] = value instead\n",
      "\n",
      "See the caveats in the documentation: https://pandas.pydata.org/pandas-docs/stable/user_guide/indexing.html#returning-a-view-versus-a-copy\n",
      "/opt/conda/lib/python3.7/site-packages/ipykernel_launcher.py:43: SettingWithCopyWarning: \n",
      "A value is trying to be set on a copy of a slice from a DataFrame\n",
      "\n",
      "See the caveats in the documentation: https://pandas.pydata.org/pandas-docs/stable/user_guide/indexing.html#returning-a-view-versus-a-copy\n",
      "/opt/conda/lib/python3.7/site-packages/pandas/core/generic.py:8870: SettingWithCopyWarning: \n",
      "A value is trying to be set on a copy of a slice from a DataFrame\n",
      "\n",
      "See the caveats in the documentation: https://pandas.pydata.org/pandas-docs/stable/user_guide/indexing.html#returning-a-view-versus-a-copy\n",
      "  return self._update_inplace(result)\n",
      "  1%|          | 3/584 [00:00<00:25, 23.00it/s]"
     ]
    },
    {
     "name": "stdout",
     "output_type": "stream",
     "text": [
      "sourceで事前学習開始\n",
      "\n",
      "epoch 1 / 10\n"
     ]
    },
    {
     "name": "stderr",
     "output_type": "stream",
     "text": [
      "100%|██████████| 584/584 [00:18<00:00, 31.40it/s]\n",
      "  1%|          | 3/584 [00:00<00:22, 25.84it/s]"
     ]
    },
    {
     "name": "stdout",
     "output_type": "stream",
     "text": [
      "Train Source Loss: 0.671\n",
      "\n",
      "epoch 2 / 10\n"
     ]
    },
    {
     "name": "stderr",
     "output_type": "stream",
     "text": [
      "100%|██████████| 584/584 [00:18<00:00, 30.95it/s]\n",
      "  1%|          | 3/584 [00:00<00:22, 26.15it/s]"
     ]
    },
    {
     "name": "stdout",
     "output_type": "stream",
     "text": [
      "Train Source Loss: 0.573\n",
      "\n",
      "epoch 3 / 10\n"
     ]
    },
    {
     "name": "stderr",
     "output_type": "stream",
     "text": [
      "100%|██████████| 584/584 [00:18<00:00, 30.97it/s]\n",
      "  1%|          | 3/584 [00:00<00:22, 26.22it/s]"
     ]
    },
    {
     "name": "stdout",
     "output_type": "stream",
     "text": [
      "Train Source Loss: 0.488\n",
      "\n",
      "epoch 4 / 10\n"
     ]
    },
    {
     "name": "stderr",
     "output_type": "stream",
     "text": [
      "100%|██████████| 584/584 [00:19<00:00, 30.23it/s]\n",
      "  1%|          | 3/584 [00:00<00:23, 25.22it/s]"
     ]
    },
    {
     "name": "stdout",
     "output_type": "stream",
     "text": [
      "Train Source Loss: 0.403\n",
      "\n",
      "epoch 5 / 10\n"
     ]
    },
    {
     "name": "stderr",
     "output_type": "stream",
     "text": [
      "100%|██████████| 584/584 [00:18<00:00, 30.88it/s]\n",
      "  1%|          | 3/584 [00:00<00:22, 26.15it/s]"
     ]
    },
    {
     "name": "stdout",
     "output_type": "stream",
     "text": [
      "Train Source Loss: 0.334\n",
      "\n",
      "epoch 6 / 10\n"
     ]
    },
    {
     "name": "stderr",
     "output_type": "stream",
     "text": [
      "100%|██████████| 584/584 [00:18<00:00, 31.15it/s]\n",
      "  1%|          | 3/584 [00:00<00:21, 26.97it/s]"
     ]
    },
    {
     "name": "stdout",
     "output_type": "stream",
     "text": [
      "Train Source Loss: 0.279\n",
      "\n",
      "epoch 7 / 10\n"
     ]
    },
    {
     "name": "stderr",
     "output_type": "stream",
     "text": [
      "100%|██████████| 584/584 [00:18<00:00, 30.91it/s]\n",
      "  1%|          | 3/584 [00:00<00:22, 25.33it/s]"
     ]
    },
    {
     "name": "stdout",
     "output_type": "stream",
     "text": [
      "Train Source Loss: 0.242\n",
      "\n",
      "epoch 8 / 10\n"
     ]
    },
    {
     "name": "stderr",
     "output_type": "stream",
     "text": [
      "100%|██████████| 584/584 [00:18<00:00, 31.13it/s]\n",
      "  1%|          | 3/584 [00:00<00:21, 27.24it/s]"
     ]
    },
    {
     "name": "stdout",
     "output_type": "stream",
     "text": [
      "Train Source Loss: 0.207\n",
      "\n",
      "epoch 9 / 10\n"
     ]
    },
    {
     "name": "stderr",
     "output_type": "stream",
     "text": [
      "100%|██████████| 584/584 [00:18<00:00, 31.87it/s]\n",
      "  1%|          | 3/584 [00:00<00:21, 27.53it/s]"
     ]
    },
    {
     "name": "stdout",
     "output_type": "stream",
     "text": [
      "Train Source Loss: 0.188\n",
      "\n",
      "epoch 10 / 10\n"
     ]
    },
    {
     "name": "stderr",
     "output_type": "stream",
     "text": [
      "100%|██████████| 584/584 [00:18<00:00, 31.72it/s]\n",
      "  1%|          | 3/292 [00:00<00:10, 28.48it/s]"
     ]
    },
    {
     "name": "stdout",
     "output_type": "stream",
     "text": [
      "Train Source Loss: 0.176\n",
      "\n",
      "targetでFineTuning開始\n",
      "epoch 1 / 10\n"
     ]
    },
    {
     "name": "stderr",
     "output_type": "stream",
     "text": [
      "100%|██████████| 292/292 [00:09<00:00, 31.88it/s]\n",
      "  1%|          | 3/292 [00:00<00:10, 28.89it/s]"
     ]
    },
    {
     "name": "stdout",
     "output_type": "stream",
     "text": [
      "Train Target Loss: 0.614\n",
      "epoch 2 / 10\n"
     ]
    },
    {
     "name": "stderr",
     "output_type": "stream",
     "text": [
      "100%|██████████| 292/292 [00:09<00:00, 31.92it/s]\n",
      "  1%|          | 3/292 [00:00<00:10, 28.42it/s]"
     ]
    },
    {
     "name": "stdout",
     "output_type": "stream",
     "text": [
      "Train Target Loss: 0.491\n",
      "epoch 3 / 10\n"
     ]
    },
    {
     "name": "stderr",
     "output_type": "stream",
     "text": [
      "100%|██████████| 292/292 [00:09<00:00, 32.11it/s]\n",
      "  1%|          | 3/292 [00:00<00:09, 29.77it/s]"
     ]
    },
    {
     "name": "stdout",
     "output_type": "stream",
     "text": [
      "Train Target Loss: 0.388\n",
      "epoch 4 / 10\n"
     ]
    },
    {
     "name": "stderr",
     "output_type": "stream",
     "text": [
      "100%|██████████| 292/292 [00:09<00:00, 31.68it/s]\n",
      "  1%|          | 3/292 [00:00<00:09, 29.12it/s]"
     ]
    },
    {
     "name": "stdout",
     "output_type": "stream",
     "text": [
      "Train Target Loss: 0.285\n",
      "epoch 5 / 10\n"
     ]
    },
    {
     "name": "stderr",
     "output_type": "stream",
     "text": [
      "100%|██████████| 292/292 [00:09<00:00, 32.37it/s]\n",
      "  1%|          | 3/292 [00:00<00:09, 29.61it/s]"
     ]
    },
    {
     "name": "stdout",
     "output_type": "stream",
     "text": [
      "Train Target Loss: 0.214\n",
      "epoch 6 / 10\n"
     ]
    },
    {
     "name": "stderr",
     "output_type": "stream",
     "text": [
      "100%|██████████| 292/292 [00:09<00:00, 32.07it/s]\n",
      "  1%|          | 3/292 [00:00<00:10, 28.74it/s]"
     ]
    },
    {
     "name": "stdout",
     "output_type": "stream",
     "text": [
      "Train Target Loss: 0.178\n",
      "epoch 7 / 10\n"
     ]
    },
    {
     "name": "stderr",
     "output_type": "stream",
     "text": [
      "100%|██████████| 292/292 [00:09<00:00, 31.59it/s]\n",
      "  1%|          | 3/292 [00:00<00:10, 26.80it/s]"
     ]
    },
    {
     "name": "stdout",
     "output_type": "stream",
     "text": [
      "Train Target Loss: 0.142\n",
      "epoch 8 / 10\n"
     ]
    },
    {
     "name": "stderr",
     "output_type": "stream",
     "text": [
      "100%|██████████| 292/292 [00:09<00:00, 30.83it/s]\n",
      "  1%|          | 3/292 [00:00<00:09, 29.01it/s]"
     ]
    },
    {
     "name": "stdout",
     "output_type": "stream",
     "text": [
      "Train Target Loss: 0.124\n",
      "epoch 9 / 10\n"
     ]
    },
    {
     "name": "stderr",
     "output_type": "stream",
     "text": [
      "100%|██████████| 292/292 [00:09<00:00, 30.84it/s]\n",
      "  1%|          | 3/292 [00:00<00:10, 26.81it/s]"
     ]
    },
    {
     "name": "stdout",
     "output_type": "stream",
     "text": [
      "Train Target Loss: 0.104\n",
      "epoch 10 / 10\n"
     ]
    },
    {
     "name": "stderr",
     "output_type": "stream",
     "text": [
      "100%|██████████| 292/292 [00:09<00:00, 30.54it/s]"
     ]
    },
    {
     "name": "stdout",
     "output_type": "stream",
     "text": [
      "Train Target Loss: 0.094\n",
      "\n",
      "Test Target Accuracy: 64.73\n",
      "Test Target F1 Score: 41.60\n"
     ]
    },
    {
     "name": "stderr",
     "output_type": "stream",
     "text": [
      "\n"
     ]
    }
   ],
   "source": [
    "for target_ratio in params[\"target_ratio\"]:\n",
    "    print(\"------------------------------\")\n",
    "    print(f\"target_ratio = {target_ratio}\")\n",
    "    print(\"------------------------------\")\n",
    "\n",
    "    # ランダムシード初期化\n",
    "    seed = 0\n",
    "    random.seed(seed)\n",
    "    np.random.seed(seed)\n",
    "    torch.manual_seed(seed)\n",
    "    torch.backends.cudnn.benchmark = False\n",
    "    torch.backends.cudnn.deterministic = True\n",
    "    device = init_device()\n",
    "\n",
    "    # データセット読み込み\n",
    "    train_df = pd.read_json(params[\"ja_train_path\"], orient=\"record\", lines=True)\n",
    "    if params[\"is_developing\"]:\n",
    "        train_df = train_df.sample(n=200000, random_state=1)\n",
    "    dev_df = pd.read_json(params[\"ja_dev_path\"], orient=\"record\", lines=True)\n",
    "    test_df = pd.read_json(params[\"ja_test_path\"], orient=\"record\", lines=True)\n",
    "\n",
    "    # sourceカテゴリーとtargetカテゴリーを分ける\n",
    "    train_source_df = train_df[train_df[\"product_category\"] == params[\"source_category\"]]\n",
    "    dev_source_df = dev_df[dev_df[\"product_category\"] == params[\"source_category\"]]\n",
    "    test_source_df = test_df[test_df[\"product_category\"] == params[\"source_category\"]]\n",
    "    train_target_df = train_df[train_df[\"product_category\"] == params[\"target_category\"]]\n",
    "    dev_target_df = dev_df[dev_df[\"product_category\"] == params[\"target_category\"]]\n",
    "    test_target_df = test_df[test_df[\"product_category\"] == params[\"target_category\"]]\n",
    "\n",
    "    # target_ratioで指定した比率までtargetのデータ数を減らす\n",
    "    source_num = train_source_df.shape[0]\n",
    "    target_num = int(source_num * target_ratio)\n",
    "    if target_num > train_target_df.shape[0]:\n",
    "        print(\"Target ratio is too large.\")\n",
    "        exit()\n",
    "    train_target_df = train_target_df.sample(target_num, replace=False)\n",
    "    print(f\"Source num: {train_source_df.shape[0]}, Target num: {train_target_df.shape[0]}\")\n",
    "\n",
    "    # クラスラベル設定\n",
    "    for df in [train_source_df, dev_source_df, test_source_df, train_target_df, dev_target_df, test_target_df]:\n",
    "        # 3以上かを予測する場合\n",
    "        df[\"class\"] = 0\n",
    "        df[\"class\"][df[\"stars\"] > 3] = 1\n",
    "\n",
    "        # 5クラス分類する場合\n",
    "        # df[\"class\"] = df[\"stars\"] - 1\n",
    "\n",
    "    # フィールド作成\n",
    "    print(\"Building data iterator...\")\n",
    "    text_field = data.Field(\n",
    "        sequential=True,\n",
    "        tokenize=tokenizer_ja,\n",
    "        use_vocab=True,\n",
    "        lower=True,\n",
    "        include_lengths=True,\n",
    "        batch_first=True,\n",
    "        fix_length=params[\"token_max_length\"],\n",
    "        init_token=\"<cls>\",\n",
    "        eos_token=\"<eos>\",\n",
    "    )\n",
    "    label_field = data.Field(sequential=False, use_vocab=False)\n",
    "    fields = [(\"text\", text_field), (\"label\", label_field)]\n",
    "\n",
    "    # データセット作成\n",
    "    columns = [\"review_body\", \"class\"]\n",
    "    train_source_dataset = dataframe2dataset(train_source_df, fields, columns)\n",
    "    dev_source_dataset = dataframe2dataset(dev_source_df, fields, columns)\n",
    "    test_source_dataset = dataframe2dataset(test_source_df, fields, columns)\n",
    "    train_target_dataset = dataframe2dataset(train_target_df, fields, columns)\n",
    "    dev_target_dataset = dataframe2dataset(dev_target_df, fields, columns)\n",
    "    test_target_dataset = dataframe2dataset(test_target_df, fields, columns)\n",
    "    all_train_dataset = dataframe2dataset(pd.concat([train_source_df, train_target_df]), fields, columns)\n",
    "\n",
    "    # embedding作成\n",
    "    if params[\"use_pretrained_vector\"]:\n",
    "        japanese_fasttext_vectors = Vectors(name=params[\"ja_vector_path\"])\n",
    "        text_field.build_vocab(all_train_dataset, vectors=japanese_fasttext_vectors, min_freq=1)\n",
    "    else:\n",
    "        text_field.build_vocab(all_train_dataset, min_freq=1)\n",
    "\n",
    "    # データセット作成\n",
    "    train_source_iter = data.BucketIterator(dataset=train_source_dataset, batch_size=params[\"batch_size\"], train=True)\n",
    "    dev_source_iter = data.BucketIterator(\n",
    "        dataset=dev_source_dataset, batch_size=params[\"batch_size\"], train=False, sort=False\n",
    "    )\n",
    "    test_source_iter = data.BucketIterator(\n",
    "        dataset=test_source_dataset, batch_size=params[\"batch_size\"], train=False, sort=False\n",
    "    )\n",
    "    train_target_iter = data.BucketIterator(dataset=train_target_dataset, batch_size=params[\"batch_size\"], train=True)\n",
    "    dev_target_iter = data.BucketIterator(\n",
    "        dataset=dev_target_dataset, batch_size=params[\"batch_size\"], train=False, sort=False\n",
    "    )\n",
    "    test_target_iter = data.BucketIterator(\n",
    "        dataset=test_target_dataset, batch_size=params[\"batch_size\"], train=False, sort=False\n",
    "    )\n",
    "\n",
    "    # モデル構築\n",
    "    v_size = len(text_field.vocab.stoi)\n",
    "    if params[\"use_pretrained_vector\"]:\n",
    "        model = MyClassifier(params[\"emb_dim\"], v_size, params[\"token_max_length\"], params[\"class_num\"], text_field).to(\n",
    "            device\n",
    "        )\n",
    "    else:\n",
    "        model = MyClassifier(params[\"emb_dim\"], v_size, params[\"token_max_length\"], params[\"class_num\"]).to(device)\n",
    "\n",
    "    criterion = getattr(nn, params[\"criterion\"])()\n",
    "    optimizer = getattr(torch.optim, params[\"optimizer\"])(model.parameters(), lr=params[\"lr\"])\n",
    "\n",
    "    # sourceで訓練\n",
    "    print(\"sourceで事前学習開始\")\n",
    "    for epoch in range(params[\"epochs\"]):\n",
    "        print(f\"\\nepoch {epoch+1} / {params['epochs']}\")\n",
    "        total_loss = 0\n",
    "\n",
    "        for i, batch in tqdm(enumerate(train_source_iter), total=len(train_source_iter)):\n",
    "            model.train()\n",
    "\n",
    "            x, y = batch.text[0].to(device), batch.label.to(device)\n",
    "            _, pred = model(x)\n",
    "            loss = criterion(pred, y)\n",
    "\n",
    "            optimizer.zero_grad()\n",
    "            loss.backward()\n",
    "            optimizer.step()\n",
    "            total_loss += loss.cpu()\n",
    "        print(f\"Train Source Loss: {total_loss / len(train_source_iter):.3f}\")\n",
    "\n",
    "        # total_dev_accuracy = 0\n",
    "        # total_dev_f1 = 0\n",
    "        # model.eval()\n",
    "        # for valid_batch in dev_source_iter:\n",
    "        #     x, y = valid_batch.text[0].to(device), valid_batch.label.to(device)\n",
    "        #     with torch.no_grad():\n",
    "        #         _, pred = model(x)\n",
    "        #     label_array = y.cpu().numpy()\n",
    "        #     logit_array = pred.cpu().numpy()\n",
    "        #     total_dev_accuracy += calc_accuracy(label_array, logit_array)\n",
    "        #     total_dev_f1 += calc_f1(label_array, logit_array)\n",
    "        # print(f\"Dev Source Accuracy: {total_dev_accuracy / len(dev_source_iter):.2f}\")\n",
    "        # print(f\"Dev Source F1 Score: {total_dev_f1 / len(dev_source_iter):.2f}\")\n",
    "\n",
    "    # targetで訓練\n",
    "    print(\"\\ntargetでFineTuning開始\")\n",
    "    for epoch in range(params[\"epochs\"]):\n",
    "        print(f\"epoch {epoch+1} / {params['epochs']}\")\n",
    "        total_loss = 0\n",
    "\n",
    "        for i, batch in tqdm(enumerate(train_target_iter), total=len(train_target_iter)):\n",
    "            model.train()\n",
    "\n",
    "            x, y = batch.text[0].to(device), batch.label.to(device)\n",
    "            _, pred = model(x)\n",
    "            loss = criterion(pred, y)\n",
    "\n",
    "            optimizer.zero_grad()\n",
    "            loss.backward()\n",
    "            optimizer.step()\n",
    "            total_loss += loss.cpu()\n",
    "        print(f\"Train Target Loss: {total_loss / len(train_target_iter):.3f}\")\n",
    "\n",
    "        # total_dev_accuracy = 0\n",
    "        # total_dev_f1 = 0\n",
    "        # model.eval()\n",
    "        # for valid_batch in dev_target_iter:\n",
    "        #     x, y = valid_batch.text[0].to(device), valid_batch.label.to(device)\n",
    "        #     with torch.no_grad():\n",
    "        #         _, pred = model(x)\n",
    "        #     label_array = y.cpu().numpy()\n",
    "        #     logit_array = pred.cpu().numpy()\n",
    "        #     total_dev_accuracy += calc_accuracy(label_array, logit_array)\n",
    "        #     total_dev_f1 += calc_f1(label_array, logit_array)\n",
    "        # print(f\"Dev Target Accuracy: {total_dev_accuracy / len(dev_target_iter):.2f}\")\n",
    "        # print(f\"Dev Target F1 Score: {total_dev_f1 / len(dev_target_iter):.2f}\")\n",
    "\n",
    "    total_test_accuracy = 0\n",
    "    total_test_f1 = 0\n",
    "    model.eval()\n",
    "    for test_batch in test_target_iter:\n",
    "        x, y = test_batch.text[0].to(device), test_batch.label.to(device)\n",
    "        with torch.no_grad():\n",
    "            _, pred = model(x)\n",
    "\n",
    "        label_array = y.cpu().numpy()\n",
    "        logit_array = pred.cpu().numpy()\n",
    "        total_test_accuracy += calc_accuracy(label_array, logit_array)\n",
    "        total_test_f1 += calc_f1(label_array, logit_array)\n",
    "    print(f\"\\nTest Target Accuracy: {total_test_accuracy / len(test_target_iter):.2f}\")\n",
    "    print(f\"Test Target F1 Score: {total_test_f1 / len(test_target_iter):.2f}\")"
   ]
  },
  {
   "cell_type": "code",
   "execution_count": null,
   "metadata": {},
   "outputs": [],
   "source": []
  }
 ],
 "metadata": {
  "interpreter": {
   "hash": "d4d1e4263499bec80672ea0156c357c1ee493ec2b1c70f0acce89fc37c4a6abe"
  },
  "kernelspec": {
   "display_name": "Python 3.7.10 ('base')",
   "language": "python",
   "name": "python3"
  },
  "language_info": {
   "codemirror_mode": {
    "name": "ipython",
    "version": 3
   },
   "file_extension": ".py",
   "mimetype": "text/x-python",
   "name": "python",
   "nbconvert_exporter": "python",
   "pygments_lexer": "ipython3",
   "version": "3.7.10"
  },
  "orig_nbformat": 4
 },
 "nbformat": 4,
 "nbformat_minor": 2
}
