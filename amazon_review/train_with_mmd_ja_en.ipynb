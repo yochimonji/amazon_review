{
 "cells": [
  {
   "cell_type": "code",
   "execution_count": 11,
   "metadata": {},
   "outputs": [],
   "source": [
    "import random\n",
    "\n",
    "import matplotlib.pyplot as plt\n",
    "import numpy as np\n",
    "import pandas as pd\n",
    "import torch\n",
    "from sklearn.decomposition import PCA\n",
    "from sklearn.metrics import confusion_matrix\n",
    "from torch import nn\n",
    "from torchtext.legacy import data\n",
    "from tqdm import tqdm\n",
    "\n",
    "from util import init_device, load_params\n",
    "from util.mmd import run_test\n",
    "from util.model import MMD, MyEmbedding, MyMLP\n",
    "from util.nlp_preprocessing import dataframe2dataset, tokenizer_en, tokenizer_ja"
   ]
  },
  {
   "cell_type": "code",
   "execution_count": 12,
   "metadata": {},
   "outputs": [
    {
     "name": "stdout",
     "output_type": "stream",
     "text": [
      "GPU available: cuda\n",
      "Loading parameters...\n",
      " ja_train_path:\t /workspace/data/dataset_ja_train.json\n",
      " ja_dev_path:\t /workspace/data/dataset_ja_dev.json\n",
      " ja_test_path:\t /workspace/data/dataset_ja_test.json\n",
      " en_train_path:\t /workspace/data/dataset_en_train.json\n",
      " en_dev_path:\t /workspace/data/dataset_en_dev.json\n",
      " en_test_path:\t /workspace/data/dataset_en_test.json\n",
      " ja_vector_path:\t /workspace/amazon_review/weight/japanese_fasttext_vectors.vec\n",
      " is_developing:\t True\n",
      " source_category:\t home\n",
      " target_category:\t wireless\n",
      " target_ratio:\t 0.3\n",
      " lambda:\t 7\n",
      " use_pretrained_vector:\t False\n",
      " token_max_length:\t 256\n",
      " batch_size:\t 32\n",
      " emb_dim:\t 300\n",
      " class_num:\t 2\n",
      " criterion:\t CrossEntropyLoss\n",
      " lr:\t 1e-05\n",
      " optimizer:\t Adam\n",
      " epochs:\t 10\n",
      "Source num: 10000, Target num: 3000\n",
      "Building data iterator...\n"
     ]
    },
    {
     "name": "stderr",
     "output_type": "stream",
     "text": [
      "/opt/conda/lib/python3.7/site-packages/ipykernel_launcher.py:34: SettingWithCopyWarning: \n",
      "A value is trying to be set on a copy of a slice from a DataFrame\n",
      "\n",
      "See the caveats in the documentation: https://pandas.pydata.org/pandas-docs/stable/user_guide/indexing.html#returning-a-view-versus-a-copy\n",
      "  2%|▏         | 2/94 [00:00<00:06, 14.12it/s]"
     ]
    },
    {
     "name": "stdout",
     "output_type": "stream",
     "text": [
      "\n",
      "epoch 1 / 10\n"
     ]
    },
    {
     "name": "stderr",
     "output_type": "stream",
     "text": [
      "100%|██████████| 94/94 [00:05<00:00, 16.61it/s]\n"
     ]
    },
    {
     "name": "stdout",
     "output_type": "stream",
     "text": [
      "Loss -> Source: 0.710\tTarget: 0.695\tMMD: 0.004\tAll: 5.483\n",
      "\n",
      "Dev source Accuracy: 51.35\n",
      "Dev source F1 Score: 33.36\n"
     ]
    },
    {
     "name": "stderr",
     "output_type": "stream",
     "text": [
      "  2%|▏         | 2/94 [00:00<00:05, 15.93it/s]"
     ]
    },
    {
     "name": "stdout",
     "output_type": "stream",
     "text": [
      "\n",
      "Dev target Accuracy: 60.85\n",
      "Dev target F1 Score: 36.62\n",
      "\n",
      "epoch 2 / 10\n"
     ]
    },
    {
     "name": "stderr",
     "output_type": "stream",
     "text": [
      "100%|██████████| 94/94 [00:05<00:00, 16.94it/s]\n"
     ]
    },
    {
     "name": "stdout",
     "output_type": "stream",
     "text": [
      "Loss -> Source: 0.644\tTarget: 0.570\tMMD: 0.004\tAll: 3.888\n",
      "\n",
      "Dev source Accuracy: 60.59\n",
      "Dev source F1 Score: 35.32\n"
     ]
    },
    {
     "name": "stderr",
     "output_type": "stream",
     "text": [
      "  2%|▏         | 2/94 [00:00<00:05, 15.70it/s]"
     ]
    },
    {
     "name": "stdout",
     "output_type": "stream",
     "text": [
      "\n",
      "Dev target Accuracy: 60.41\n",
      "Dev target F1 Score: 37.61\n",
      "\n",
      "epoch 3 / 10\n"
     ]
    },
    {
     "name": "stderr",
     "output_type": "stream",
     "text": [
      "100%|██████████| 94/94 [00:05<00:00, 17.06it/s]\n"
     ]
    },
    {
     "name": "stdout",
     "output_type": "stream",
     "text": [
      "Loss -> Source: 0.597\tTarget: 0.467\tMMD: 0.003\tAll: 3.382\n",
      "\n",
      "Dev source Accuracy: 60.47\n",
      "Dev source F1 Score: 37.21\n"
     ]
    },
    {
     "name": "stderr",
     "output_type": "stream",
     "text": [
      "  2%|▏         | 2/94 [00:00<00:05, 15.73it/s]"
     ]
    },
    {
     "name": "stdout",
     "output_type": "stream",
     "text": [
      "\n",
      "Dev target Accuracy: 63.18\n",
      "Dev target F1 Score: 38.50\n",
      "\n",
      "epoch 4 / 10\n"
     ]
    },
    {
     "name": "stderr",
     "output_type": "stream",
     "text": [
      "100%|██████████| 94/94 [00:05<00:00, 17.09it/s]\n"
     ]
    },
    {
     "name": "stdout",
     "output_type": "stream",
     "text": [
      "Loss -> Source: 0.541\tTarget: 0.363\tMMD: 0.003\tAll: 3.054\n",
      "\n",
      "Dev source Accuracy: 48.93\n",
      "Dev source F1 Score: 30.73\n"
     ]
    },
    {
     "name": "stderr",
     "output_type": "stream",
     "text": [
      "  2%|▏         | 2/94 [00:00<00:06, 15.25it/s]"
     ]
    },
    {
     "name": "stdout",
     "output_type": "stream",
     "text": [
      "\n",
      "Dev target Accuracy: 62.38\n",
      "Dev target F1 Score: 38.62\n",
      "\n",
      "epoch 5 / 10\n"
     ]
    },
    {
     "name": "stderr",
     "output_type": "stream",
     "text": [
      "100%|██████████| 94/94 [00:05<00:00, 17.05it/s]\n"
     ]
    },
    {
     "name": "stdout",
     "output_type": "stream",
     "text": [
      "Loss -> Source: 0.498\tTarget: 0.292\tMMD: 0.003\tAll: 2.925\n",
      "\n",
      "Dev source Accuracy: 62.18\n",
      "Dev source F1 Score: 38.13\n"
     ]
    },
    {
     "name": "stderr",
     "output_type": "stream",
     "text": [
      "  2%|▏         | 2/94 [00:00<00:05, 15.70it/s]"
     ]
    },
    {
     "name": "stdout",
     "output_type": "stream",
     "text": [
      "\n",
      "Dev target Accuracy: 64.91\n",
      "Dev target F1 Score: 38.12\n",
      "\n",
      "epoch 6 / 10\n"
     ]
    },
    {
     "name": "stderr",
     "output_type": "stream",
     "text": [
      "100%|██████████| 94/94 [00:05<00:00, 16.60it/s]\n"
     ]
    },
    {
     "name": "stdout",
     "output_type": "stream",
     "text": [
      "Loss -> Source: 0.454\tTarget: 0.232\tMMD: 0.003\tAll: 2.755\n",
      "\n",
      "Dev source Accuracy: 52.03\n",
      "Dev source F1 Score: 32.18\n"
     ]
    },
    {
     "name": "stderr",
     "output_type": "stream",
     "text": [
      "  2%|▏         | 2/94 [00:00<00:05, 15.82it/s]"
     ]
    },
    {
     "name": "stdout",
     "output_type": "stream",
     "text": [
      "\n",
      "Dev target Accuracy: 60.71\n",
      "Dev target F1 Score: 37.89\n",
      "\n",
      "epoch 7 / 10\n"
     ]
    },
    {
     "name": "stderr",
     "output_type": "stream",
     "text": [
      "100%|██████████| 94/94 [00:05<00:00, 17.10it/s]\n"
     ]
    },
    {
     "name": "stdout",
     "output_type": "stream",
     "text": [
      "Loss -> Source: 0.399\tTarget: 0.200\tMMD: 0.003\tAll: 2.669\n",
      "\n",
      "Dev source Accuracy: 53.40\n",
      "Dev source F1 Score: 33.04\n"
     ]
    },
    {
     "name": "stderr",
     "output_type": "stream",
     "text": [
      "  2%|▏         | 2/94 [00:00<00:05, 16.04it/s]"
     ]
    },
    {
     "name": "stdout",
     "output_type": "stream",
     "text": [
      "\n",
      "Dev target Accuracy: 63.83\n",
      "Dev target F1 Score: 38.66\n",
      "\n",
      "epoch 8 / 10\n"
     ]
    },
    {
     "name": "stderr",
     "output_type": "stream",
     "text": [
      "100%|██████████| 94/94 [00:05<00:00, 16.94it/s]\n"
     ]
    },
    {
     "name": "stdout",
     "output_type": "stream",
     "text": [
      "Loss -> Source: 0.378\tTarget: 0.168\tMMD: 0.003\tAll: 2.549\n",
      "\n",
      "Dev source Accuracy: 60.19\n",
      "Dev source F1 Score: 37.20\n"
     ]
    },
    {
     "name": "stderr",
     "output_type": "stream",
     "text": [
      "  2%|▏         | 2/94 [00:00<00:06, 15.28it/s]"
     ]
    },
    {
     "name": "stdout",
     "output_type": "stream",
     "text": [
      "\n",
      "Dev target Accuracy: 59.73\n",
      "Dev target F1 Score: 37.32\n",
      "\n",
      "epoch 9 / 10\n"
     ]
    },
    {
     "name": "stderr",
     "output_type": "stream",
     "text": [
      "100%|██████████| 94/94 [00:05<00:00, 16.93it/s]\n"
     ]
    },
    {
     "name": "stdout",
     "output_type": "stream",
     "text": [
      "Loss -> Source: 0.345\tTarget: 0.149\tMMD: 0.003\tAll: 2.471\n",
      "\n",
      "Dev source Accuracy: 63.91\n",
      "Dev source F1 Score: 38.35\n"
     ]
    },
    {
     "name": "stderr",
     "output_type": "stream",
     "text": [
      "  2%|▏         | 2/94 [00:00<00:05, 15.79it/s]"
     ]
    },
    {
     "name": "stdout",
     "output_type": "stream",
     "text": [
      "\n",
      "Dev target Accuracy: 49.76\n",
      "Dev target F1 Score: 31.67\n",
      "\n",
      "epoch 10 / 10\n"
     ]
    },
    {
     "name": "stderr",
     "output_type": "stream",
     "text": [
      "100%|██████████| 94/94 [00:05<00:00, 16.70it/s]\n"
     ]
    },
    {
     "name": "stdout",
     "output_type": "stream",
     "text": [
      "Loss -> Source: 0.319\tTarget: 0.125\tMMD: 0.003\tAll: 2.392\n",
      "\n",
      "Dev source Accuracy: 63.12\n",
      "Dev source F1 Score: 37.65\n",
      "\n",
      "Dev target Accuracy: 64.41\n",
      "Dev target F1 Score: 38.40\n",
      "\n",
      "Test source Accuracy: 63.97\n",
      "Test source F1 Score: 37.72\n",
      "\n",
      "Test target Accuracy: 63.85\n",
      "Test target F1 Score: 38.11\n"
     ]
    },
    {
     "data": {
      "image/png": "[encoded data removed]",
      "text/plain": [
       "<Figure size 432x288 with 1 Axes>"
      ]
     },
     "metadata": {
      "needs_background": "light"
     },
     "output_type": "display_data"
    },
    {
     "data": {
      "text/plain": [
       "array([[2342,  658],\n",
       "       [1152,  848]])"
      ]
     },
     "execution_count": 12,
     "metadata": {},
     "output_type": "execute_result"
    }
   ],
   "source": [
    "seed = 0\n",
    "random.seed(seed)\n",
    "np.random.seed(seed)\n",
    "torch.manual_seed(seed)\n",
    "torch.backends.cudnn.benchmark = False\n",
    "torch.backends.cudnn.deterministic = True\n",
    "device = init_device()\n",
    "\n",
    "print(\"Loading parameters...\")\n",
    "params = load_params(\"/workspace/amazon_review/config/params_mmd.json\")\n",
    "\n",
    "# データセット読み込み\n",
    "train_source_df = pd.read_json(params[\"ja_train_path\"], orient=\"record\", lines=True)\n",
    "if params[\"is_developing\"]:\n",
    "    train_source_df = train_source_df.sample(n=10000, random_state=1)\n",
    "dev_source_df = pd.read_json(params[\"ja_dev_path\"], orient=\"record\", lines=True)\n",
    "test_source_df = pd.read_json(params[\"ja_test_path\"], orient=\"record\", lines=True)\n",
    "train_target_df = pd.read_json(params[\"en_train_path\"], orient=\"record\", lines=True)\n",
    "if params[\"is_developing\"]:\n",
    "    train_target_df = train_target_df.sample(n=10000, random_state=1)\n",
    "dev_target_df = pd.read_json(params[\"en_dev_path\"], orient=\"record\", lines=True)\n",
    "test_target_df = pd.read_json(params[\"en_test_path\"], orient=\"record\", lines=True)\n",
    "\n",
    "# targetドメインの割合を減らす\n",
    "# targetの分類性能を下げるため\n",
    "train_target_num = int(min(train_source_df.shape[0] * params[\"target_ratio\"], train_target_df.shape[0]))\n",
    "train_target_df = train_target_df.sample(train_target_num, replace=False)\n",
    "print(f\"Source num: {train_source_df.shape[0]}, Target num: {train_target_df.shape[0]}\")\n",
    "\n",
    "# クラスラベル設定\n",
    "for df in [train_source_df, dev_source_df, test_source_df, train_target_df, dev_target_df, test_target_df]:\n",
    "    # 3以上かを予測する場合\n",
    "    df[\"class\"] = 0\n",
    "    df[\"class\"][df[\"stars\"] > 3] = 1\n",
    "\n",
    "    # 5クラス分類する場合\n",
    "    # df[\"class\"] = df[\"stars\"] - 1\n",
    "\n",
    "# フィールド作成\n",
    "print(\"Building data iterator...\")\n",
    "source_text_field = data.Field(\n",
    "    sequential=True,\n",
    "    tokenize=tokenizer_ja,\n",
    "    use_vocab=True,\n",
    "    lower=True,\n",
    "    include_lengths=True,\n",
    "    batch_first=True,\n",
    "    fix_length=params[\"token_max_length\"],\n",
    "    init_token=\"<cls>\",\n",
    "    eos_token=\"<eos>\",\n",
    ")\n",
    "target_text_field = data.Field(\n",
    "    sequential=True,\n",
    "    tokenize=tokenizer_en,\n",
    "    use_vocab=True,\n",
    "    lower=True,\n",
    "    include_lengths=True,\n",
    "    batch_first=True,\n",
    "    fix_length=params[\"token_max_length\"],\n",
    "    init_token=\"<cls>\",\n",
    "    eos_token=\"<eos>\",\n",
    ")\n",
    "label_field = data.Field(sequential=False, use_vocab=False)\n",
    "ja_fields = [(\"text\", source_text_field), (\"label\", label_field)]\n",
    "en_fields = [(\"text\", target_text_field), (\"label\", label_field)]\n",
    "\n",
    "# データセット作成\n",
    "columns = [\"review_body\", \"class\"]\n",
    "train_source_dataset = dataframe2dataset(train_source_df, ja_fields, columns)\n",
    "dev_source_dataset = dataframe2dataset(dev_source_df, ja_fields, columns)\n",
    "test_source_dataset = dataframe2dataset(test_source_df, ja_fields, columns)\n",
    "train_target_dataset = dataframe2dataset(train_target_df, en_fields, columns)\n",
    "dev_target_dataset = dataframe2dataset(dev_target_df, en_fields, columns)\n",
    "test_target_dataset = dataframe2dataset(test_target_df, en_fields, columns)\n",
    "\n",
    "# embedding作成\n",
    "source_text_field.build_vocab(train_source_dataset, min_freq=1)\n",
    "target_text_field.build_vocab(train_target_dataset, min_freq=1)\n",
    "\n",
    "# データローダー\n",
    "# train_source_iter = data.BucketIterator(dataset=train_source_dataset, batch_size=params[\"batch_size\"], train=True)\n",
    "dev_source_iter = data.BucketIterator(\n",
    "    dataset=dev_source_dataset, batch_size=params[\"batch_size\"], train=False, sort=False\n",
    ")\n",
    "test_source_iter = data.BucketIterator(\n",
    "    dataset=test_source_dataset, batch_size=params[\"batch_size\"], train=False, sort=False\n",
    ")\n",
    "train_target_iter = data.BucketIterator(dataset=train_target_dataset, batch_size=params[\"batch_size\"], train=True)\n",
    "dev_target_iter = data.BucketIterator(\n",
    "    dataset=dev_target_dataset, batch_size=params[\"batch_size\"], train=False, sort=False\n",
    ")\n",
    "test_target_iter = data.BucketIterator(\n",
    "    dataset=test_target_dataset, batch_size=params[\"batch_size\"], train=False, sort=False\n",
    ")\n",
    "\n",
    "# モデル構築\n",
    "ja_v_size = len(source_text_field.vocab.stoi)\n",
    "en_v_size = len(target_text_field.vocab.stoi)\n",
    "source_embedding = MyEmbedding(params[\"emb_dim\"], ja_v_size, params[\"token_max_length\"]).to(device)\n",
    "target_embedding = MyEmbedding(params[\"emb_dim\"], en_v_size, params[\"token_max_length\"]).to(device)\n",
    "mlp = MyMLP(class_num=params[\"class_num\"]).to(device)\n",
    "criterion = getattr(nn, params[\"criterion\"])()\n",
    "mmd = MMD(\"rbf\")\n",
    "\n",
    "optimizer_s_emb = getattr(torch.optim, params[\"optimizer\"])(source_embedding.parameters(), lr=params[\"lr\"])\n",
    "optimizer_t_emb = getattr(torch.optim, params[\"optimizer\"])(target_embedding.parameters(), lr=params[\"lr\"])\n",
    "optimizer_mlp = getattr(torch.optim, params[\"optimizer\"])(mlp.parameters(), lr=params[\"lr\"])\n",
    "\n",
    "split_ratio = len(train_target_dataset) / len(train_source_dataset)\n",
    "\n",
    "# 訓練\n",
    "for epoch in range(params[\"epochs\"]):\n",
    "    print(f\"\\nepoch {epoch+1} / {params['epochs']}\")\n",
    "    # 各lossの初期化\n",
    "    total_source_loss = 0\n",
    "    total_target_loss = 0\n",
    "    total_mmd_loss = 0\n",
    "    total_all_loss = 0\n",
    "\n",
    "    # MMDのためにターゲットと同数のソースが必要なためエポックごとにソースのデータローダーを作成し直す\n",
    "    # エポックごとに異なるソースのデータが使用されるようになる\n",
    "    random.seed(epoch)\n",
    "    train_source_subset, _ = train_source_dataset.split(split_ratio=split_ratio)\n",
    "    train_source_iter = data.BucketIterator(\n",
    "        dataset=train_source_subset, batch_size=params[\"batch_size\"], train=True\n",
    "    )\n",
    "\n",
    "    for i, (source_batch, target_batch) in tqdm(\n",
    "        enumerate(zip(train_source_iter, train_target_iter)), total=len(train_source_iter)\n",
    "    ):\n",
    "        source_embedding.train()\n",
    "        target_embedding.train()\n",
    "        mlp.train()\n",
    "\n",
    "        source_x, source_y = source_batch.text[0].to(device), (source_batch.label).to(device)\n",
    "        target_x, target_y = target_batch.text[0].to(device), (target_batch.label).to(device)\n",
    "\n",
    "        # MMDの処理はBatch数が同数でなけらばならないためcontinueする\n",
    "        # sourceとtargetで毎回同じBatch数だけデータがロードされる処理ができれば下の処理は不要\n",
    "        if source_x.shape[0] != params[\"batch_size\"] or target_x.shape[0] != params[\"batch_size\"]:\n",
    "            continue\n",
    "\n",
    "        source_embed = source_embedding(source_x)\n",
    "        source_pred = mlp(source_embed)\n",
    "        source_loss = criterion(source_pred, source_y)\n",
    "        total_source_loss += source_loss.cpu()\n",
    "\n",
    "        target_embed = target_embedding(target_x)\n",
    "        target_pred = mlp(target_embed)\n",
    "        target_loss = criterion(target_pred, target_y)\n",
    "        total_target_loss += target_loss.cpu()\n",
    "\n",
    "        if params[\"lambda\"] == 0:\n",
    "            all_loss = source_loss + target_loss\n",
    "        else:\n",
    "            mmd_loss = mmd(source_embed, target_embed)\n",
    "            total_mmd_loss = mmd_loss.cpu()\n",
    "            all_loss = source_loss + target_loss + params[\"lambda\"] * mmd_loss\n",
    "\n",
    "        optimizer_s_emb.zero_grad()\n",
    "        optimizer_t_emb.zero_grad()\n",
    "        optimizer_mlp.zero_grad()\n",
    "\n",
    "        all_loss.backward()\n",
    "\n",
    "        optimizer_s_emb.step()\n",
    "        optimizer_t_emb.step()\n",
    "        optimizer_mlp.step()\n",
    "        total_all_loss += all_loss.cpu()\n",
    "\n",
    "    mean_source_loss = total_source_loss / len(train_source_iter)\n",
    "    mean_target_loss = total_target_loss / len(train_target_iter)\n",
    "    mean_all_loss = total_all_loss / len(train_source_iter)\n",
    "    if params[\"lambda\"] == 0:\n",
    "        print(f\"Loss -> Source: {mean_source_loss:.3f}\\tTarget: {mean_target_loss:.3f}\\tAll: {mean_all_loss:.3f}\")\n",
    "    else:\n",
    "        mean_mmd_loss = total_mmd_loss / len(train_source_iter)\n",
    "        print(\n",
    "            f\"Loss -> Source: {mean_source_loss:.3f}\\tTarget: {mean_target_loss:.3f}\\tMMD: {mean_mmd_loss:.3f}\\tAll: {mean_all_loss:.3f}\"  # noqa #E501\n",
    "        )\n",
    "\n",
    "    dev_source_accuracy, dev_source_f1 = run_test(source_embedding, mlp, dev_source_iter, device)\n",
    "    print(f\"\\nDev source Accuracy: {dev_source_accuracy:.2f}\")\n",
    "    print(f\"Dev source F1 Score: {dev_source_f1:.2f}\")\n",
    "    dev_target_accuracy, dev_target_f1 = run_test(target_embedding, mlp, dev_target_iter, device)\n",
    "    print(f\"\\nDev target Accuracy: {dev_target_accuracy:.2f}\")\n",
    "    print(f\"Dev target F1 Score: {dev_target_f1:.2f}\")\n",
    "\n",
    "test_source_accuracy, test_source_f1 = run_test(source_embedding, mlp, test_source_iter, device)\n",
    "print(f\"\\nTest source Accuracy: {test_source_accuracy:.2f}\")\n",
    "print(f\"Test source F1 Score: {test_source_f1:.2f}\")\n",
    "test_target_accuracy, test_target_f1 = run_test(target_embedding, mlp, test_target_iter, device)\n",
    "print(f\"\\nTest target Accuracy: {test_target_accuracy:.2f}\")\n",
    "print(f\"Test target F1 Score: {test_target_f1:.2f}\")\n",
    "\n",
    "# 特徴量可視化\n",
    "source_embedding.eval()\n",
    "target_embedding.eval()\n",
    "\n",
    "train_source_iter = data.BucketIterator(dataset=train_source_dataset, batch_size=params[\"batch_size\"], train=True)\n",
    "source_embedding_list = []\n",
    "for batch in train_source_iter:\n",
    "    x, _ = batch.text[0].to(device), (batch.label).to(device)\n",
    "    with torch.no_grad():\n",
    "        embedding = source_embedding(x)\n",
    "    source_embedding_list.extend(embedding.cpu().numpy())\n",
    "source_df = pd.DataFrame(np.array(source_embedding_list))\n",
    "\n",
    "target_embedding_list = []\n",
    "for batch in train_target_iter:\n",
    "    x, _ = batch.text[0].to(device), (batch.label).to(device)\n",
    "    with torch.no_grad():\n",
    "        embedding = target_embedding(x)\n",
    "    target_embedding_list.extend(embedding.cpu().numpy())\n",
    "target_df = pd.DataFrame(np.array(target_embedding_list))\n",
    "\n",
    "pca = PCA(n_components=2)\n",
    "pca.fit(source_df)\n",
    "source_pca_df = pca.transform(source_df)\n",
    "target_pca_df = pca.transform(target_df)\n",
    "source_pca_df.shape\n",
    "\n",
    "plt.scatter(source_pca_df[:, 0], source_pca_df[:, 1])\n",
    "plt.scatter(target_pca_df[:, 0], target_pca_df[:, 1])\n",
    "plt.show()\n",
    "\n",
    "label_list = []\n",
    "pred_list = []\n",
    "for batch in test_target_iter:\n",
    "    x, y = batch.text[0].to(device), (batch.label).to(device)\n",
    "    with torch.no_grad():\n",
    "        embedding = target_embedding(x)\n",
    "        pred = mlp(embedding)\n",
    "    label_list.extend(list(y.cpu().numpy()))\n",
    "    pred_list.extend(list(pred.cpu().numpy().argmax(1)))\n",
    "confusion_matrix(label_list, pred_list)"
   ]
  },
  {
   "cell_type": "code",
   "execution_count": null,
   "metadata": {},
   "outputs": [],
   "source": []
  }
 ],
 "metadata": {
  "interpreter": {
   "hash": "d4d1e4263499bec80672ea0156c357c1ee493ec2b1c70f0acce89fc37c4a6abe"
  },
  "kernelspec": {
   "display_name": "Python 3.7.10 ('base')",
   "language": "python",
   "name": "python3"
  },
  "language_info": {
   "codemirror_mode": {
    "name": "ipython",
    "version": 3
   },
   "file_extension": ".py",
   "mimetype": "text/x-python",
   "name": "python",
   "nbconvert_exporter": "python",
   "pygments_lexer": "ipython3",
   "version": "3.7.10"
  },
  "orig_nbformat": 4
 },
 "nbformat": 4,
 "nbformat_minor": 2
}
