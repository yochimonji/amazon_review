{
 "cells": [
  {
   "cell_type": "code",
   "execution_count": 10,
   "metadata": {},
   "outputs": [],
   "source": [
    "import random\n",
    "\n",
    "import matplotlib.pyplot as plt\n",
    "import numpy as np\n",
    "import pandas as pd\n",
    "import torch\n",
    "from sklearn.decomposition import PCA\n",
    "from sklearn.metrics import confusion_matrix\n",
    "from torch import nn\n",
    "from torchtext.legacy import data\n",
    "from tqdm import tqdm\n",
    "\n",
    "from util import init_device, load_params\n",
    "from util.mmd import run_test\n",
    "from util.model import MMD, MyEmbedding, MyMLP\n",
    "from util.nlp_preprocessing import dataframe2dataset, tokenizer_en, tokenizer_ja"
   ]
  },
  {
   "cell_type": "code",
   "execution_count": 11,
   "metadata": {},
   "outputs": [
    {
     "name": "stdout",
     "output_type": "stream",
     "text": [
      "GPU available: cuda\n",
      "Loading parameters...\n",
      " ja_train_path:\t /workspace/data/dataset_ja_train.json\n",
      " ja_dev_path:\t /workspace/data/dataset_ja_dev.json\n",
      " ja_test_path:\t /workspace/data/dataset_ja_test.json\n",
      " en_train_path:\t /workspace/data/dataset_en_train.json\n",
      " en_dev_path:\t /workspace/data/dataset_en_dev.json\n",
      " en_test_path:\t /workspace/data/dataset_en_test.json\n",
      " ja_vector_path:\t /workspace/amazon_review/weight/japanese_fasttext_vectors.vec\n",
      " is_developing:\t True\n",
      " source_category:\t home\n",
      " target_category:\t wireless\n",
      " target_ratio:\t 0.01\n",
      " lambda:\t 0\n",
      " use_pretrained_vector:\t False\n",
      " token_max_length:\t 256\n",
      " batch_size:\t 32\n",
      " emb_dim:\t 300\n",
      " class_num:\t 2\n",
      " criterion:\t CrossEntropyLoss\n",
      " lr:\t 1e-05\n",
      " optimizer:\t Adam\n",
      " epochs:\t 10\n"
     ]
    }
   ],
   "source": [
    "print(\"Loading parameters...\")\n",
    "params = load_params(\"/workspace/amazon_review/config/params_mmd.json\")\n",
    "\n",
    "params[\"target_ratio\"] = [0.01, 0.05, 0.1, 0.3, 0.5]\n",
    "params[\"lambda\"] = [0.0, 0.3, 0.7, 1.0, 3.0, 7.0]"
   ]
  },
  {
   "cell_type": "code",
   "execution_count": 12,
   "metadata": {},
   "outputs": [
    {
     "name": "stdout",
     "output_type": "stream",
     "text": [
      "---------------\n",
      "lambda = 0.0\n",
      "---------------\n",
      "Source num: 10000, Target num: 100\n",
      "Building data iterator...\n"
     ]
    },
    {
     "name": "stderr",
     "output_type": "stream",
     "text": [
      "/opt/conda/lib/python3.7/site-packages/ipykernel_launcher.py:28: SettingWithCopyWarning: \n",
      "A value is trying to be set on a copy of a slice from a DataFrame\n",
      "\n",
      "See the caveats in the documentation: https://pandas.pydata.org/pandas-docs/stable/user_guide/indexing.html#returning-a-view-versus-a-copy\n",
      "100%|██████████| 4/4 [00:00<00:00, 22.50it/s]"
     ]
    },
    {
     "name": "stdout",
     "output_type": "stream",
     "text": [
      "\n",
      "epoch 1 / 10\n"
     ]
    },
    {
     "name": "stderr",
     "output_type": "stream",
     "text": [
      "\n",
      "100%|██████████| 4/4 [00:00<00:00, 31.45it/s]\n",
      "  0%|          | 0/4 [00:00<?, ?it/s]"
     ]
    },
    {
     "name": "stdout",
     "output_type": "stream",
     "text": [
      "Loss -> Source: 0.541\tTarget: 0.539\tAll: 1.080\n",
      "\n",
      "epoch 2 / 10\n",
      "Loss -> Source: 0.387\tTarget: 0.259\tAll: 0.646\n",
      "\n",
      "epoch 3 / 10\n"
     ]
    },
    {
     "name": "stderr",
     "output_type": "stream",
     "text": [
      "100%|██████████| 4/4 [00:00<00:00, 31.55it/s]\n",
      "100%|██████████| 4/4 [00:00<00:00, 32.91it/s]\n",
      "  0%|          | 0/4 [00:00<?, ?it/s]"
     ]
    },
    {
     "name": "stdout",
     "output_type": "stream",
     "text": [
      "Loss -> Source: 0.362\tTarget: 0.235\tAll: 0.597\n",
      "\n",
      "epoch 4 / 10\n",
      "Loss -> Source: 0.354\tTarget: 0.198\tAll: 0.552\n",
      "\n",
      "epoch 5 / 10\n"
     ]
    },
    {
     "name": "stderr",
     "output_type": "stream",
     "text": [
      "100%|██████████| 4/4 [00:00<00:00, 33.21it/s]\n",
      "100%|██████████| 4/4 [00:00<00:00, 32.95it/s]\n",
      "  0%|          | 0/4 [00:00<?, ?it/s]"
     ]
    },
    {
     "name": "stdout",
     "output_type": "stream",
     "text": [
      "Loss -> Source: 0.336\tTarget: 0.161\tAll: 0.497\n",
      "\n",
      "epoch 6 / 10\n",
      "Loss -> Source: 0.358\tTarget: 0.181\tAll: 0.540\n",
      "\n",
      "epoch 7 / 10\n"
     ]
    },
    {
     "name": "stderr",
     "output_type": "stream",
     "text": [
      "100%|██████████| 4/4 [00:00<00:00, 33.07it/s]\n",
      "100%|██████████| 4/4 [00:00<00:00, 33.17it/s]\n",
      "  0%|          | 0/4 [00:00<?, ?it/s]"
     ]
    },
    {
     "name": "stdout",
     "output_type": "stream",
     "text": [
      "Loss -> Source: 0.332\tTarget: 0.144\tAll: 0.476\n",
      "\n",
      "epoch 8 / 10\n",
      "Loss -> Source: 0.358\tTarget: 0.130\tAll: 0.488\n",
      "\n",
      "epoch 9 / 10\n"
     ]
    },
    {
     "name": "stderr",
     "output_type": "stream",
     "text": [
      "100%|██████████| 4/4 [00:00<00:00, 33.07it/s]\n",
      "100%|██████████| 4/4 [00:00<00:00, 33.63it/s]\n"
     ]
    },
    {
     "name": "stdout",
     "output_type": "stream",
     "text": [
      "Loss -> Source: 0.343\tTarget: 0.130\tAll: 0.473\n",
      "\n",
      "epoch 10 / 10\n",
      "Loss -> Source: 0.363\tTarget: 0.141\tAll: 0.505\n",
      "\n",
      "Test source Accuracy: 59.30\n",
      "Test source F1 Score: 41.39\n",
      "\n",
      "Test target Accuracy: 40.23\n",
      "Test target F1 Score: 39.28\n"
     ]
    },
    {
     "data": {
      "image/png": "[encoded data removed]",
      "text/plain": [
       "<Figure size 432x288 with 1 Axes>"
      ]
     },
     "metadata": {
      "needs_background": "light"
     },
     "output_type": "display_data"
    },
    {
     "name": "stdout",
     "output_type": "stream",
     "text": [
      "[[   0 3000]\n",
      " [   3 1997]]\n",
      "---------------\n",
      "lambda = 0.3\n",
      "---------------\n",
      "Source num: 10000, Target num: 100\n",
      "Building data iterator...\n"
     ]
    },
    {
     "name": "stderr",
     "output_type": "stream",
     "text": [
      "/opt/conda/lib/python3.7/site-packages/ipykernel_launcher.py:28: SettingWithCopyWarning: \n",
      "A value is trying to be set on a copy of a slice from a DataFrame\n",
      "\n",
      "See the caveats in the documentation: https://pandas.pydata.org/pandas-docs/stable/user_guide/indexing.html#returning-a-view-versus-a-copy\n",
      "100%|██████████| 4/4 [00:00<00:00, 33.27it/s]\n",
      "  0%|          | 0/4 [00:00<?, ?it/s]"
     ]
    },
    {
     "name": "stdout",
     "output_type": "stream",
     "text": [
      "\n",
      "epoch 1 / 10\n",
      "Loss -> Source: 0.398\tTarget: 0.399\tMMD: 0.469\tAll: 1.105\n",
      "\n",
      "epoch 2 / 10\n"
     ]
    },
    {
     "name": "stderr",
     "output_type": "stream",
     "text": [
      "100%|██████████| 4/4 [00:00<00:00, 33.01it/s]\n",
      "100%|██████████| 4/4 [00:00<00:00, 33.91it/s]\n",
      "  0%|          | 0/4 [00:00<?, ?it/s]"
     ]
    },
    {
     "name": "stdout",
     "output_type": "stream",
     "text": [
      "Loss -> Source: 0.387\tTarget: 0.277\tMMD: 0.293\tAll: 0.852\n",
      "\n",
      "epoch 3 / 10\n",
      "Loss -> Source: 0.413\tTarget: 0.254\tMMD: 0.221\tAll: 0.805\n",
      "\n",
      "epoch 4 / 10\n"
     ]
    },
    {
     "name": "stderr",
     "output_type": "stream",
     "text": [
      "100%|██████████| 4/4 [00:00<00:00, 33.58it/s]\n",
      "100%|██████████| 4/4 [00:00<00:00, 33.80it/s]\n",
      "  0%|          | 0/4 [00:00<?, ?it/s]"
     ]
    },
    {
     "name": "stdout",
     "output_type": "stream",
     "text": [
      "Loss -> Source: 0.360\tTarget: 0.230\tMMD: 0.270\tAll: 0.759\n",
      "\n",
      "epoch 5 / 10\n",
      "Loss -> Source: 0.390\tTarget: 0.196\tMMD: 0.190\tAll: 0.704\n",
      "\n",
      "epoch 6 / 10\n"
     ]
    },
    {
     "name": "stderr",
     "output_type": "stream",
     "text": [
      "100%|██████████| 4/4 [00:00<00:00, 33.41it/s]\n",
      "100%|██████████| 4/4 [00:00<00:00, 33.50it/s]\n",
      "  0%|          | 0/4 [00:00<?, ?it/s]"
     ]
    },
    {
     "name": "stdout",
     "output_type": "stream",
     "text": [
      "Loss -> Source: 0.354\tTarget: 0.176\tMMD: 0.211\tAll: 0.650\n",
      "\n",
      "epoch 7 / 10\n",
      "Loss -> Source: 0.341\tTarget: 0.152\tMMD: 0.143\tAll: 0.603\n",
      "\n",
      "epoch 8 / 10\n"
     ]
    },
    {
     "name": "stderr",
     "output_type": "stream",
     "text": [
      "100%|██████████| 4/4 [00:00<00:00, 33.57it/s]\n",
      "100%|██████████| 4/4 [00:00<00:00, 33.70it/s]\n",
      "  0%|          | 0/4 [00:00<?, ?it/s]"
     ]
    },
    {
     "name": "stdout",
     "output_type": "stream",
     "text": [
      "Loss -> Source: 0.378\tTarget: 0.135\tMMD: 0.176\tAll: 0.612\n",
      "\n",
      "epoch 9 / 10\n",
      "Loss -> Source: 0.369\tTarget: 0.117\tMMD: 0.160\tAll: 0.595\n",
      "\n",
      "epoch 10 / 10\n"
     ]
    },
    {
     "name": "stderr",
     "output_type": "stream",
     "text": [
      "100%|██████████| 4/4 [00:00<00:00, 32.90it/s]\n"
     ]
    },
    {
     "name": "stdout",
     "output_type": "stream",
     "text": [
      "Loss -> Source: 0.414\tTarget: 0.111\tMMD: 0.157\tAll: 0.615\n",
      "\n",
      "Test source Accuracy: 55.77\n",
      "Test source F1 Score: 34.24\n",
      "\n",
      "Test target Accuracy: 59.53\n",
      "Test target F1 Score: 44.42\n"
     ]
    },
    {
     "data": {
      "image/png": "[encoded data removed]",
      "text/plain": [
       "<Figure size 432x288 with 1 Axes>"
      ]
     },
     "metadata": {
      "needs_background": "light"
     },
     "output_type": "display_data"
    },
    {
     "name": "stdout",
     "output_type": "stream",
     "text": [
      "[[2926   74]\n",
      " [1935   65]]\n",
      "---------------\n",
      "lambda = 0.7\n",
      "---------------\n",
      "Source num: 10000, Target num: 100\n",
      "Building data iterator...\n"
     ]
    },
    {
     "name": "stderr",
     "output_type": "stream",
     "text": [
      "/opt/conda/lib/python3.7/site-packages/ipykernel_launcher.py:28: SettingWithCopyWarning: \n",
      "A value is trying to be set on a copy of a slice from a DataFrame\n",
      "\n",
      "See the caveats in the documentation: https://pandas.pydata.org/pandas-docs/stable/user_guide/indexing.html#returning-a-view-versus-a-copy\n",
      "100%|██████████| 4/4 [00:00<00:00, 34.12it/s]\n",
      "  0%|          | 0/4 [00:00<?, ?it/s]"
     ]
    },
    {
     "name": "stdout",
     "output_type": "stream",
     "text": [
      "\n",
      "epoch 1 / 10\n",
      "Loss -> Source: 0.369\tTarget: 0.333\tMMD: 0.440\tAll: 1.375\n",
      "\n",
      "epoch 2 / 10\n"
     ]
    },
    {
     "name": "stderr",
     "output_type": "stream",
     "text": [
      "100%|██████████| 4/4 [00:00<00:00, 32.88it/s]\n",
      "100%|██████████| 4/4 [00:00<00:00, 33.44it/s]\n",
      "  0%|          | 0/4 [00:00<?, ?it/s]"
     ]
    },
    {
     "name": "stdout",
     "output_type": "stream",
     "text": [
      "Loss -> Source: 0.353\tTarget: 0.264\tMMD: 0.280\tAll: 1.015\n",
      "\n",
      "epoch 3 / 10\n",
      "Loss -> Source: 0.377\tTarget: 0.262\tMMD: 0.305\tAll: 1.043\n",
      "\n",
      "epoch 4 / 10\n"
     ]
    },
    {
     "name": "stderr",
     "output_type": "stream",
     "text": [
      "100%|██████████| 4/4 [00:00<00:00, 33.95it/s]\n",
      "100%|██████████| 4/4 [00:00<00:00, 33.34it/s]\n",
      "  0%|          | 0/4 [00:00<?, ?it/s]"
     ]
    },
    {
     "name": "stdout",
     "output_type": "stream",
     "text": [
      "Loss -> Source: 0.341\tTarget: 0.211\tMMD: 0.218\tAll: 0.849\n",
      "\n",
      "epoch 5 / 10\n",
      "Loss -> Source: 0.374\tTarget: 0.182\tMMD: 0.199\tAll: 0.847\n",
      "\n",
      "epoch 6 / 10\n"
     ]
    },
    {
     "name": "stderr",
     "output_type": "stream",
     "text": [
      "100%|██████████| 4/4 [00:00<00:00, 33.64it/s]\n",
      "100%|██████████| 4/4 [00:00<00:00, 33.73it/s]\n",
      "  0%|          | 0/4 [00:00<?, ?it/s]"
     ]
    },
    {
     "name": "stdout",
     "output_type": "stream",
     "text": [
      "Loss -> Source: 0.327\tTarget: 0.162\tMMD: 0.209\tAll: 0.755\n",
      "\n",
      "epoch 7 / 10\n",
      "Loss -> Source: 0.338\tTarget: 0.146\tMMD: 0.169\tAll: 0.712\n",
      "\n",
      "epoch 8 / 10\n"
     ]
    },
    {
     "name": "stderr",
     "output_type": "stream",
     "text": [
      "100%|██████████| 4/4 [00:00<00:00, 33.43it/s]\n",
      "100%|██████████| 4/4 [00:00<00:00, 33.50it/s]\n",
      "  0%|          | 0/4 [00:00<?, ?it/s]"
     ]
    },
    {
     "name": "stdout",
     "output_type": "stream",
     "text": [
      "Loss -> Source: 0.380\tTarget: 0.144\tMMD: 0.146\tAll: 0.734\n",
      "\n",
      "epoch 9 / 10\n",
      "Loss -> Source: 0.365\tTarget: 0.137\tMMD: 0.169\tAll: 0.738\n",
      "\n",
      "epoch 10 / 10\n"
     ]
    },
    {
     "name": "stderr",
     "output_type": "stream",
     "text": [
      "100%|██████████| 4/4 [00:00<00:00, 33.78it/s]\n"
     ]
    },
    {
     "name": "stdout",
     "output_type": "stream",
     "text": [
      "Loss -> Source: 0.418\tTarget: 0.132\tMMD: 0.133\tAll: 0.748\n",
      "\n",
      "Test source Accuracy: 53.80\n",
      "Test source F1 Score: 33.94\n",
      "\n",
      "Test target Accuracy: 56.75\n",
      "Test target F1 Score: 35.00\n"
     ]
    },
    {
     "data": {
      "image/png": "[encoded data removed]",
      "text/plain": [
       "<Figure size 432x288 with 1 Axes>"
      ]
     },
     "metadata": {
      "needs_background": "light"
     },
     "output_type": "display_data"
    },
    {
     "name": "stdout",
     "output_type": "stream",
     "text": [
      "[[2194  806]\n",
      " [1358  642]]\n",
      "---------------\n",
      "lambda = 1.0\n",
      "---------------\n",
      "Source num: 10000, Target num: 100\n",
      "Building data iterator...\n"
     ]
    },
    {
     "name": "stderr",
     "output_type": "stream",
     "text": [
      "/opt/conda/lib/python3.7/site-packages/ipykernel_launcher.py:28: SettingWithCopyWarning: \n",
      "A value is trying to be set on a copy of a slice from a DataFrame\n",
      "\n",
      "See the caveats in the documentation: https://pandas.pydata.org/pandas-docs/stable/user_guide/indexing.html#returning-a-view-versus-a-copy\n",
      "100%|██████████| 4/4 [00:00<00:00, 33.45it/s]\n",
      "  0%|          | 0/4 [00:00<?, ?it/s]"
     ]
    },
    {
     "name": "stdout",
     "output_type": "stream",
     "text": [
      "\n",
      "epoch 1 / 10\n",
      "Loss -> Source: 0.395\tTarget: 0.382\tMMD: 0.452\tAll: 1.768\n",
      "\n",
      "epoch 2 / 10\n"
     ]
    },
    {
     "name": "stderr",
     "output_type": "stream",
     "text": [
      "100%|██████████| 4/4 [00:00<00:00, 32.21it/s]\n",
      "100%|██████████| 4/4 [00:00<00:00, 33.03it/s]\n",
      "  0%|          | 0/4 [00:00<?, ?it/s]"
     ]
    },
    {
     "name": "stdout",
     "output_type": "stream",
     "text": [
      "Loss -> Source: 0.407\tTarget: 0.277\tMMD: 0.295\tAll: 1.246\n",
      "\n",
      "epoch 3 / 10\n",
      "Loss -> Source: 0.372\tTarget: 0.253\tMMD: 0.217\tAll: 1.148\n",
      "\n",
      "epoch 4 / 10\n"
     ]
    },
    {
     "name": "stderr",
     "output_type": "stream",
     "text": [
      "100%|██████████| 4/4 [00:00<00:00, 33.88it/s]\n",
      "100%|██████████| 4/4 [00:00<00:00, 34.07it/s]\n",
      "  0%|          | 0/4 [00:00<?, ?it/s]"
     ]
    },
    {
     "name": "stdout",
     "output_type": "stream",
     "text": [
      "Loss -> Source: 0.364\tTarget: 0.197\tMMD: 0.215\tAll: 0.995\n",
      "\n",
      "epoch 5 / 10\n",
      "Loss -> Source: 0.386\tTarget: 0.199\tMMD: 0.210\tAll: 0.993\n",
      "\n",
      "epoch 6 / 10\n"
     ]
    },
    {
     "name": "stderr",
     "output_type": "stream",
     "text": [
      "100%|██████████| 4/4 [00:00<00:00, 33.63it/s]\n",
      "100%|██████████| 4/4 [00:00<00:00, 34.08it/s]\n",
      "  0%|          | 0/4 [00:00<?, ?it/s]"
     ]
    },
    {
     "name": "stdout",
     "output_type": "stream",
     "text": [
      "Loss -> Source: 0.343\tTarget: 0.162\tMMD: 0.202\tAll: 0.890\n",
      "\n",
      "epoch 7 / 10\n",
      "Loss -> Source: 0.372\tTarget: 0.141\tMMD: 0.155\tAll: 0.853\n",
      "\n",
      "epoch 8 / 10\n"
     ]
    },
    {
     "name": "stderr",
     "output_type": "stream",
     "text": [
      "100%|██████████| 4/4 [00:00<00:00, 33.85it/s]\n",
      "100%|██████████| 4/4 [00:00<00:00, 33.75it/s]\n",
      "  0%|          | 0/4 [00:00<?, ?it/s]"
     ]
    },
    {
     "name": "stdout",
     "output_type": "stream",
     "text": [
      "Loss -> Source: 0.370\tTarget: 0.125\tMMD: 0.149\tAll: 0.818\n",
      "\n",
      "epoch 9 / 10\n",
      "Loss -> Source: 0.345\tTarget: 0.122\tMMD: 0.152\tAll: 0.811\n",
      "\n",
      "epoch 10 / 10\n"
     ]
    },
    {
     "name": "stderr",
     "output_type": "stream",
     "text": [
      "100%|██████████| 4/4 [00:00<00:00, 33.77it/s]\n"
     ]
    },
    {
     "name": "stdout",
     "output_type": "stream",
     "text": [
      "Loss -> Source: 0.404\tTarget: 0.115\tMMD: 0.141\tAll: 0.791\n",
      "\n",
      "Test source Accuracy: 52.75\n",
      "Test source F1 Score: 34.40\n",
      "\n",
      "Test target Accuracy: 49.50\n",
      "Test target F1 Score: 32.79\n"
     ]
    },
    {
     "data": {
      "image/png": "[encoded data removed]",
      "text/plain": [
       "<Figure size 432x288 with 1 Axes>"
      ]
     },
     "metadata": {
      "needs_background": "light"
     },
     "output_type": "display_data"
    },
    {
     "name": "stdout",
     "output_type": "stream",
     "text": [
      "[[1283 1717]\n",
      " [ 805 1195]]\n",
      "---------------\n",
      "lambda = 3.0\n",
      "---------------\n",
      "Source num: 10000, Target num: 100\n",
      "Building data iterator...\n"
     ]
    },
    {
     "name": "stderr",
     "output_type": "stream",
     "text": [
      "/opt/conda/lib/python3.7/site-packages/ipykernel_launcher.py:28: SettingWithCopyWarning: \n",
      "A value is trying to be set on a copy of a slice from a DataFrame\n",
      "\n",
      "See the caveats in the documentation: https://pandas.pydata.org/pandas-docs/stable/user_guide/indexing.html#returning-a-view-versus-a-copy\n",
      "100%|██████████| 4/4 [00:00<00:00, 32.06it/s]\n",
      "  0%|          | 0/4 [00:00<?, ?it/s]"
     ]
    },
    {
     "name": "stdout",
     "output_type": "stream",
     "text": [
      "\n",
      "epoch 1 / 10\n",
      "Loss -> Source: 0.369\tTarget: 0.367\tMMD: 0.360\tAll: 3.451\n",
      "\n",
      "epoch 2 / 10\n"
     ]
    },
    {
     "name": "stderr",
     "output_type": "stream",
     "text": [
      "100%|██████████| 4/4 [00:00<00:00, 32.98it/s]\n",
      "100%|██████████| 4/4 [00:00<00:00, 33.89it/s]\n",
      "  0%|          | 0/4 [00:00<?, ?it/s]"
     ]
    },
    {
     "name": "stdout",
     "output_type": "stream",
     "text": [
      "Loss -> Source: 0.357\tTarget: 0.294\tMMD: 0.282\tAll: 2.427\n",
      "\n",
      "epoch 3 / 10\n",
      "Loss -> Source: 0.393\tTarget: 0.281\tMMD: 0.196\tAll: 1.831\n",
      "\n",
      "epoch 4 / 10\n"
     ]
    },
    {
     "name": "stderr",
     "output_type": "stream",
     "text": [
      "100%|██████████| 4/4 [00:00<00:00, 33.34it/s]\n",
      "100%|██████████| 4/4 [00:00<00:00, 33.90it/s]\n",
      "  0%|          | 0/4 [00:00<?, ?it/s]"
     ]
    },
    {
     "name": "stdout",
     "output_type": "stream",
     "text": [
      "Loss -> Source: 0.353\tTarget: 0.234\tMMD: 0.217\tAll: 1.815\n",
      "\n",
      "epoch 5 / 10\n",
      "Loss -> Source: 0.385\tTarget: 0.244\tMMD: 0.196\tAll: 1.658\n",
      "\n",
      "epoch 6 / 10\n"
     ]
    },
    {
     "name": "stderr",
     "output_type": "stream",
     "text": [
      "100%|██████████| 4/4 [00:00<00:00, 33.65it/s]\n",
      "100%|██████████| 4/4 [00:00<00:00, 32.69it/s]\n",
      "  0%|          | 0/4 [00:00<?, ?it/s]"
     ]
    },
    {
     "name": "stdout",
     "output_type": "stream",
     "text": [
      "Loss -> Source: 0.334\tTarget: 0.232\tMMD: 0.145\tAll: 1.545\n",
      "\n",
      "epoch 7 / 10\n",
      "Loss -> Source: 0.354\tTarget: 0.170\tMMD: 0.139\tAll: 1.441\n",
      "\n",
      "epoch 8 / 10\n"
     ]
    },
    {
     "name": "stderr",
     "output_type": "stream",
     "text": [
      "100%|██████████| 4/4 [00:00<00:00, 33.38it/s]\n",
      "100%|██████████| 4/4 [00:00<00:00, 33.21it/s]\n",
      "  0%|          | 0/4 [00:00<?, ?it/s]"
     ]
    },
    {
     "name": "stdout",
     "output_type": "stream",
     "text": [
      "Loss -> Source: 0.369\tTarget: 0.154\tMMD: 0.133\tAll: 1.388\n",
      "\n",
      "epoch 9 / 10\n",
      "Loss -> Source: 0.358\tTarget: 0.149\tMMD: 0.153\tAll: 1.335\n",
      "\n",
      "epoch 10 / 10\n"
     ]
    },
    {
     "name": "stderr",
     "output_type": "stream",
     "text": [
      "100%|██████████| 4/4 [00:00<00:00, 33.32it/s]\n"
     ]
    },
    {
     "name": "stdout",
     "output_type": "stream",
     "text": [
      "Loss -> Source: 0.361\tTarget: 0.143\tMMD: 0.138\tAll: 1.290\n",
      "\n",
      "Test source Accuracy: 52.07\n",
      "Test source F1 Score: 34.09\n",
      "\n",
      "Test target Accuracy: 48.35\n",
      "Test target F1 Score: 32.20\n"
     ]
    },
    {
     "data": {
      "image/png": "[encoded data removed]",
      "text/plain": [
       "<Figure size 432x288 with 1 Axes>"
      ]
     },
     "metadata": {
      "needs_background": "light"
     },
     "output_type": "display_data"
    },
    {
     "name": "stdout",
     "output_type": "stream",
     "text": [
      "[[1226 1774]\n",
      " [ 812 1188]]\n",
      "---------------\n",
      "lambda = 7.0\n",
      "---------------\n",
      "Source num: 10000, Target num: 100\n",
      "Building data iterator...\n"
     ]
    },
    {
     "name": "stderr",
     "output_type": "stream",
     "text": [
      "/opt/conda/lib/python3.7/site-packages/ipykernel_launcher.py:28: SettingWithCopyWarning: \n",
      "A value is trying to be set on a copy of a slice from a DataFrame\n",
      "\n",
      "See the caveats in the documentation: https://pandas.pydata.org/pandas-docs/stable/user_guide/indexing.html#returning-a-view-versus-a-copy\n",
      "100%|██████████| 4/4 [00:00<00:00, 32.99it/s]\n",
      "  0%|          | 0/4 [00:00<?, ?it/s]"
     ]
    },
    {
     "name": "stdout",
     "output_type": "stream",
     "text": [
      "\n",
      "epoch 1 / 10\n",
      "Loss -> Source: 0.363\tTarget: 0.397\tMMD: 0.455\tAll: 8.143\n",
      "\n",
      "epoch 2 / 10\n"
     ]
    },
    {
     "name": "stderr",
     "output_type": "stream",
     "text": [
      "100%|██████████| 4/4 [00:00<00:00, 32.20it/s]\n",
      "100%|██████████| 4/4 [00:00<00:00, 33.09it/s]\n",
      "  0%|          | 0/4 [00:00<?, ?it/s]"
     ]
    },
    {
     "name": "stdout",
     "output_type": "stream",
     "text": [
      "Loss -> Source: 0.352\tTarget: 0.317\tMMD: 0.374\tAll: 5.943\n",
      "\n",
      "epoch 3 / 10\n",
      "Loss -> Source: 0.343\tTarget: 0.315\tMMD: 0.233\tAll: 4.202\n",
      "\n",
      "epoch 4 / 10\n"
     ]
    },
    {
     "name": "stderr",
     "output_type": "stream",
     "text": [
      "100%|██████████| 4/4 [00:00<00:00, 32.34it/s]\n",
      "100%|██████████| 4/4 [00:00<00:00, 32.59it/s]\n",
      "  0%|          | 0/4 [00:00<?, ?it/s]"
     ]
    },
    {
     "name": "stdout",
     "output_type": "stream",
     "text": [
      "Loss -> Source: 0.369\tTarget: 0.295\tMMD: 0.243\tAll: 3.809\n",
      "\n",
      "epoch 5 / 10\n",
      "Loss -> Source: 0.365\tTarget: 0.280\tMMD: 0.248\tAll: 3.886\n",
      "\n",
      "epoch 6 / 10\n"
     ]
    },
    {
     "name": "stderr",
     "output_type": "stream",
     "text": [
      "100%|██████████| 4/4 [00:00<00:00, 33.08it/s]\n",
      "100%|██████████| 4/4 [00:00<00:00, 32.78it/s]\n",
      "  0%|          | 0/4 [00:00<?, ?it/s]"
     ]
    },
    {
     "name": "stdout",
     "output_type": "stream",
     "text": [
      "Loss -> Source: 0.343\tTarget: 0.261\tMMD: 0.176\tAll: 3.075\n",
      "\n",
      "epoch 7 / 10\n",
      "Loss -> Source: 0.354\tTarget: 0.240\tMMD: 0.160\tAll: 3.030\n",
      "\n",
      "epoch 8 / 10\n"
     ]
    },
    {
     "name": "stderr",
     "output_type": "stream",
     "text": [
      "100%|██████████| 4/4 [00:00<00:00, 32.33it/s]\n",
      "100%|██████████| 4/4 [00:00<00:00, 32.86it/s]\n",
      "  0%|          | 0/4 [00:00<?, ?it/s]"
     ]
    },
    {
     "name": "stdout",
     "output_type": "stream",
     "text": [
      "Loss -> Source: 0.360\tTarget: 0.228\tMMD: 0.158\tAll: 2.961\n",
      "\n",
      "epoch 9 / 10\n",
      "Loss -> Source: 0.375\tTarget: 0.214\tMMD: 0.163\tAll: 2.825\n",
      "\n",
      "epoch 10 / 10\n"
     ]
    },
    {
     "name": "stderr",
     "output_type": "stream",
     "text": [
      "100%|██████████| 4/4 [00:00<00:00, 33.30it/s]\n"
     ]
    },
    {
     "name": "stdout",
     "output_type": "stream",
     "text": [
      "Loss -> Source: 0.370\tTarget: 0.203\tMMD: 0.172\tAll: 2.749\n",
      "\n",
      "Test source Accuracy: 51.87\n",
      "Test source F1 Score: 33.94\n",
      "\n",
      "Test target Accuracy: 55.75\n",
      "Test target F1 Score: 35.11\n"
     ]
    },
    {
     "data": {
      "image/png": "[encoded data removed]",
      "text/plain": [
       "<Figure size 432x288 with 1 Axes>"
      ]
     },
     "metadata": {
      "needs_background": "light"
     },
     "output_type": "display_data"
    },
    {
     "name": "stdout",
     "output_type": "stream",
     "text": [
      "[[2036  964]\n",
      " [1244  756]]\n"
     ]
    }
   ],
   "source": [
    "for target_ratio in params[\"target_ratio\"]:\n",
    "    for la in params[\"lambda\"]:\n",
    "        print(\"------------------------------\")\n",
    "        print(f\"target_ratio = {target_ratio}\\tlambda = {la}\")\n",
    "        print(\"------------------------------\")\n",
    "\n",
    "        # パラメータ初期化\n",
    "        seed = 0\n",
    "        random.seed(seed)\n",
    "        np.random.seed(seed)\n",
    "        torch.manual_seed(seed)\n",
    "        torch.backends.cudnn.benchmark = False\n",
    "        torch.backends.cudnn.deterministic = True\n",
    "        device = init_device()\n",
    "        \n",
    "        # データセット読み込み\n",
    "        train_source_df = pd.read_json(params[\"ja_train_path\"], orient=\"record\", lines=True)\n",
    "        if params[\"is_developing\"]:\n",
    "            train_source_df = train_source_df.sample(n=10000, random_state=1)\n",
    "        dev_source_df = pd.read_json(params[\"ja_dev_path\"], orient=\"record\", lines=True)\n",
    "        test_source_df = pd.read_json(params[\"ja_test_path\"], orient=\"record\", lines=True)\n",
    "        train_target_df = pd.read_json(params[\"en_train_path\"], orient=\"record\", lines=True)\n",
    "        if params[\"is_developing\"]:\n",
    "            train_target_df = train_target_df.sample(n=10000, random_state=1)\n",
    "        dev_target_df = pd.read_json(params[\"en_dev_path\"], orient=\"record\", lines=True)\n",
    "        test_target_df = pd.read_json(params[\"en_test_path\"], orient=\"record\", lines=True)\n",
    "\n",
    "        # targetドメインの割合を減らす\n",
    "        # targetの分類性能を下げるため\n",
    "        train_target_num = int(min(train_source_df.shape[0] * target_ratio, train_target_df.shape[0]))\n",
    "        train_target_df = train_target_df.sample(train_target_num, replace=False)\n",
    "        print(f\"Source num: {train_source_df.shape[0]}, Target num: {train_target_df.shape[0]}\")\n",
    "\n",
    "        # クラスラベル設定\n",
    "        for df in [train_source_df, dev_source_df, test_source_df, train_target_df, dev_target_df, test_target_df]:\n",
    "            # 3以上かを予測する場合\n",
    "            df[\"class\"] = 0\n",
    "            df[\"class\"][df[\"stars\"] > 3] = 1\n",
    "\n",
    "            # 5クラス分類する場合\n",
    "            # df[\"class\"] = df[\"stars\"] - 1\n",
    "\n",
    "        # フィールド作成\n",
    "        print(\"Building data iterator...\")\n",
    "        source_text_field = data.Field(\n",
    "            sequential=True,\n",
    "            tokenize=tokenizer_ja,\n",
    "            use_vocab=True,\n",
    "            lower=True,\n",
    "            include_lengths=True,\n",
    "            batch_first=True,\n",
    "            fix_length=params[\"token_max_length\"],\n",
    "            init_token=\"<cls>\",\n",
    "            eos_token=\"<eos>\",\n",
    "        )\n",
    "        target_text_field = data.Field(\n",
    "            sequential=True,\n",
    "            tokenize=tokenizer_en,\n",
    "            use_vocab=True,\n",
    "            lower=True,\n",
    "            include_lengths=True,\n",
    "            batch_first=True,\n",
    "            fix_length=params[\"token_max_length\"],\n",
    "            init_token=\"<cls>\",\n",
    "            eos_token=\"<eos>\",\n",
    "        )\n",
    "        label_field = data.Field(sequential=False, use_vocab=False)\n",
    "        ja_fields = [(\"text\", source_text_field), (\"label\", label_field)]\n",
    "        en_fields = [(\"text\", target_text_field), (\"label\", label_field)]\n",
    "\n",
    "        # データセット作成\n",
    "        columns = [\"review_body\", \"class\"]\n",
    "        train_source_dataset = dataframe2dataset(train_source_df, ja_fields, columns)\n",
    "        dev_source_dataset = dataframe2dataset(dev_source_df, ja_fields, columns)\n",
    "        test_source_dataset = dataframe2dataset(test_source_df, ja_fields, columns)\n",
    "        train_target_dataset = dataframe2dataset(train_target_df, en_fields, columns)\n",
    "        dev_target_dataset = dataframe2dataset(dev_target_df, en_fields, columns)\n",
    "        test_target_dataset = dataframe2dataset(test_target_df, en_fields, columns)\n",
    "\n",
    "        # embedding作成\n",
    "        source_text_field.build_vocab(train_source_dataset, min_freq=1)\n",
    "        target_text_field.build_vocab(train_target_dataset, min_freq=1)\n",
    "\n",
    "        # データローダー\n",
    "        # train_source_iter = data.BucketIterator(dataset=train_source_dataset, batch_size=params[\"batch_size\"], train=True)\n",
    "        dev_source_iter = data.BucketIterator(\n",
    "            dataset=dev_source_dataset, batch_size=params[\"batch_size\"], train=False, sort=False\n",
    "        )\n",
    "        test_source_iter = data.BucketIterator(\n",
    "            dataset=test_source_dataset, batch_size=params[\"batch_size\"], train=False, sort=False\n",
    "        )\n",
    "        train_target_iter = data.BucketIterator(dataset=train_target_dataset, batch_size=params[\"batch_size\"], train=True)\n",
    "        dev_target_iter = data.BucketIterator(\n",
    "            dataset=dev_target_dataset, batch_size=params[\"batch_size\"], train=False, sort=False\n",
    "        )\n",
    "        test_target_iter = data.BucketIterator(\n",
    "            dataset=test_target_dataset, batch_size=params[\"batch_size\"], train=False, sort=False\n",
    "        )\n",
    "\n",
    "        # モデル構築\n",
    "        ja_v_size = len(source_text_field.vocab.stoi)\n",
    "        en_v_size = len(target_text_field.vocab.stoi)\n",
    "        source_embedding = MyEmbedding(params[\"emb_dim\"], ja_v_size, params[\"token_max_length\"]).to(device)\n",
    "        target_embedding = MyEmbedding(params[\"emb_dim\"], en_v_size, params[\"token_max_length\"]).to(device)\n",
    "        mlp = MyMLP(class_num=params[\"class_num\"]).to(device)\n",
    "        criterion = getattr(nn, params[\"criterion\"])()\n",
    "        mmd = MMD(\"rbf\")\n",
    "\n",
    "        optimizer_s_emb = getattr(torch.optim, params[\"optimizer\"])(source_embedding.parameters(), lr=params[\"lr\"])\n",
    "        optimizer_t_emb = getattr(torch.optim, params[\"optimizer\"])(target_embedding.parameters(), lr=params[\"lr\"])\n",
    "        optimizer_mlp = getattr(torch.optim, params[\"optimizer\"])(mlp.parameters(), lr=params[\"lr\"])\n",
    "\n",
    "        split_ratio = len(train_target_dataset) / len(train_source_dataset)\n",
    "\n",
    "        # 訓練\n",
    "        for epoch in range(params[\"epochs\"]):\n",
    "            print(f\"\\nepoch {epoch+1} / {params['epochs']}\")\n",
    "            # 各lossの初期化\n",
    "            total_source_loss = 0\n",
    "            total_target_loss = 0\n",
    "            total_mmd_loss = 0\n",
    "            total_all_loss = 0\n",
    "\n",
    "            # MMDのためにターゲットと同数のソースが必要なためエポックごとにソースのデータローダーを作成し直す\n",
    "            # エポックごとに異なるソースのデータが使用されるようになる\n",
    "            random.seed(epoch)\n",
    "            train_source_subset, _ = train_source_dataset.split(split_ratio=split_ratio)\n",
    "            train_source_iter = data.BucketIterator(\n",
    "                dataset=train_source_subset, batch_size=params[\"batch_size\"], train=True\n",
    "            )\n",
    "\n",
    "            for i, (source_batch, target_batch) in tqdm(\n",
    "                enumerate(zip(train_source_iter, train_target_iter)), total=len(train_source_iter)\n",
    "            ):\n",
    "                source_embedding.train()\n",
    "                target_embedding.train()\n",
    "                mlp.train()\n",
    "\n",
    "                source_x, source_y = source_batch.text[0].to(device), (source_batch.label).to(device)\n",
    "                target_x, target_y = target_batch.text[0].to(device), (target_batch.label).to(device)\n",
    "\n",
    "                # MMDの処理はBatch数が同数でなけらばならないためcontinueする\n",
    "                # sourceとtargetで毎回同じBatch数だけデータがロードされる処理ができれば下の処理は不要\n",
    "                if source_x.shape[0] != params[\"batch_size\"] or target_x.shape[0] != params[\"batch_size\"]:\n",
    "                    continue\n",
    "\n",
    "                source_embed = source_embedding(source_x)\n",
    "                source_pred = mlp(source_embed)\n",
    "                source_loss = criterion(source_pred, source_y)\n",
    "                total_source_loss += source_loss.cpu()\n",
    "\n",
    "                target_embed = target_embedding(target_x)\n",
    "                target_pred = mlp(target_embed)\n",
    "                target_loss = criterion(target_pred, target_y)\n",
    "                total_target_loss += target_loss.cpu()\n",
    "\n",
    "                mmd_loss = mmd(source_embed, target_embed)\n",
    "                total_mmd_loss = mmd_loss.cpu()\n",
    "                all_loss = source_loss + target_loss + la * mmd_loss\n",
    "\n",
    "                optimizer_s_emb.zero_grad()\n",
    "                optimizer_t_emb.zero_grad()\n",
    "                optimizer_mlp.zero_grad()\n",
    "\n",
    "                all_loss.backward()\n",
    "\n",
    "                optimizer_s_emb.step()\n",
    "                optimizer_t_emb.step()\n",
    "                optimizer_mlp.step()\n",
    "                total_all_loss += all_loss.cpu()\n",
    "\n",
    "            mean_source_loss = total_source_loss / len(train_source_iter)\n",
    "            mean_target_loss = total_target_loss / len(train_target_iter)\n",
    "            mean_all_loss = total_all_loss / len(train_source_iter)\n",
    "            if la == 0:\n",
    "                print(f\"Loss -> Source: {mean_source_loss:.3f}\\tTarget: {mean_target_loss:.3f}\\tAll: {mean_all_loss:.3f}\")\n",
    "            else:\n",
    "                mean_mmd_loss = total_mmd_loss / len(train_source_iter)\n",
    "                print(\n",
    "                    f\"Loss -> Source: {mean_source_loss:.3f}\\tTarget: {mean_target_loss:.3f}\\tMMD: {mean_mmd_loss:.3f}\\tAll: {mean_all_loss:.3f}\"  # noqa #E501\n",
    "                )\n",
    "\n",
    "            # dev_source_accuracy, dev_source_f1 = run_test(source_embedding, mlp, dev_source_iter, device)\n",
    "            # print(f\"\\nDev source Accuracy: {dev_source_accuracy:.2f}\")\n",
    "            # print(f\"Dev source F1 Score: {dev_source_f1:.2f}\")\n",
    "            # dev_target_accuracy, dev_target_f1 = run_test(target_embedding, mlp, dev_target_iter, device)\n",
    "            # print(f\"\\nDev target Accuracy: {dev_target_accuracy:.2f}\")\n",
    "            # print(f\"Dev target F1 Score: {dev_target_f1:.2f}\")\n",
    "\n",
    "        test_source_accuracy, test_source_f1 = run_test(source_embedding, mlp, test_source_iter, device)\n",
    "        print(f\"\\nTest source Accuracy: {test_source_accuracy:.2f}\")\n",
    "        print(f\"Test source F1 Score: {test_source_f1:.2f}\")\n",
    "        test_target_accuracy, test_target_f1 = run_test(target_embedding, mlp, test_target_iter, device)\n",
    "        print(f\"\\nTest target Accuracy: {test_target_accuracy:.2f}\")\n",
    "        print(f\"Test target F1 Score: {test_target_f1:.2f}\")\n",
    "\n",
    "        # 特徴量可視化\n",
    "        source_embedding.eval()\n",
    "        target_embedding.eval()\n",
    "\n",
    "        train_source_iter = data.BucketIterator(dataset=train_source_dataset, batch_size=params[\"batch_size\"], train=True)\n",
    "        source_embedding_list = []\n",
    "        for batch in train_source_iter:\n",
    "            x, _ = batch.text[0].to(device), (batch.label).to(device)\n",
    "            with torch.no_grad():\n",
    "                embedding = source_embedding(x)\n",
    "            source_embedding_list.extend(embedding.cpu().numpy())\n",
    "        source_df = pd.DataFrame(np.array(source_embedding_list))\n",
    "\n",
    "        target_embedding_list = []\n",
    "        for batch in train_target_iter:\n",
    "            x, _ = batch.text[0].to(device), (batch.label).to(device)\n",
    "            with torch.no_grad():\n",
    "                embedding = target_embedding(x)\n",
    "            target_embedding_list.extend(embedding.cpu().numpy())\n",
    "        target_df = pd.DataFrame(np.array(target_embedding_list))\n",
    "\n",
    "        pca = PCA(n_components=2)\n",
    "        pca.fit(source_df)\n",
    "        source_pca_df = pca.transform(source_df)\n",
    "        target_pca_df = pca.transform(target_df)\n",
    "        source_pca_df.shape\n",
    "\n",
    "        plt.scatter(source_pca_df[:, 0], source_pca_df[:, 1], label=\"Source\")\n",
    "        plt.scatter(target_pca_df[:, 0], target_pca_df[:, 1], label=\"Target\")\n",
    "        plt.legend()\n",
    "        plt.show()\n",
    "\n",
    "        label_list = []\n",
    "        pred_list = []\n",
    "        for batch in test_target_iter:\n",
    "            x, y = batch.text[0].to(device), (batch.label).to(device)\n",
    "            with torch.no_grad():\n",
    "                embedding = target_embedding(x)\n",
    "                pred = mlp(embedding)\n",
    "            label_list.extend(list(y.cpu().numpy()))\n",
    "            pred_list.extend(list(pred.cpu().numpy().argmax(1)))\n",
    "        print(confusion_matrix(label_list, pred_list))"
   ]
  },
  {
   "cell_type": "code",
   "execution_count": null,
   "metadata": {},
   "outputs": [],
   "source": []
  }
 ],
 "metadata": {
  "interpreter": {
   "hash": "d4d1e4263499bec80672ea0156c357c1ee493ec2b1c70f0acce89fc37c4a6abe"
  },
  "kernelspec": {
   "display_name": "Python 3.7.10 ('base')",
   "language": "python",
   "name": "python3"
  },
  "language_info": {
   "codemirror_mode": {
    "name": "ipython",
    "version": 3
   },
   "file_extension": ".py",
   "mimetype": "text/x-python",
   "name": "python",
   "nbconvert_exporter": "python",
   "pygments_lexer": "ipython3",
   "version": "3.7.10"
  },
  "orig_nbformat": 4
 },
 "nbformat": 4,
 "nbformat_minor": 2
}
